{
 "cells": [
  {
   "cell_type": "code",
   "execution_count": 11,
   "id": "a6c514bb",
   "metadata": {},
   "outputs": [],
   "source": [
    "# import the libraries\n",
    "import numpy as np\n",
    "import pandas as pd\n",
    "from matplotlib import pyplot as plt\n",
    "%matplotlib inline\n",
    "import seaborn as sns"
   ]
  },
  {
   "cell_type": "markdown",
   "id": "650ba24a",
   "metadata": {},
   "source": [
    "Importing dataset:\n",
    "\n",
    "Since data is in form of csv file we have to use pandas read_csv to load the data\n",
    "After loading it is important to check the complete information of data as it can indication many of the hidden infomation such as null values in a column or a row\n",
    "Check whether any null values are there or not. if it is present then following can be done,\n",
    "1. Imputing data using Imputation method in sklearn\n",
    "2. Filling NaN values with mean, median and mode using fillna() method\n",
    "\n",
    "Describe data: Statistical analysis"
   ]
  },
  {
   "cell_type": "code",
   "execution_count": 12,
   "id": "6331147d",
   "metadata": {},
   "outputs": [
    {
     "data": {
      "text/html": [
       "<div>\n",
       "<style scoped>\n",
       "    .dataframe tbody tr th:only-of-type {\n",
       "        vertical-align: middle;\n",
       "    }\n",
       "\n",
       "    .dataframe tbody tr th {\n",
       "        vertical-align: top;\n",
       "    }\n",
       "\n",
       "    .dataframe thead th {\n",
       "        text-align: right;\n",
       "    }\n",
       "</style>\n",
       "<table border=\"1\" class=\"dataframe\">\n",
       "  <thead>\n",
       "    <tr style=\"text-align: right;\">\n",
       "      <th></th>\n",
       "      <th>Gender</th>\n",
       "      <th>Business</th>\n",
       "      <th>Dependancies</th>\n",
       "      <th>Calls</th>\n",
       "      <th>Type</th>\n",
       "      <th>Billing</th>\n",
       "      <th>Rating</th>\n",
       "      <th>Age</th>\n",
       "      <th>Salary</th>\n",
       "      <th>Base_pay</th>\n",
       "      <th>Bonus</th>\n",
       "      <th>Unit_Price</th>\n",
       "      <th>Volume</th>\n",
       "      <th>openingbalance</th>\n",
       "      <th>closingbalance</th>\n",
       "      <th>low</th>\n",
       "      <th>Unit_Sales</th>\n",
       "      <th>Total_Sales</th>\n",
       "      <th>Months</th>\n",
       "      <th>Education</th>\n",
       "    </tr>\n",
       "  </thead>\n",
       "  <tbody>\n",
       "    <tr>\n",
       "      <th>0</th>\n",
       "      <td>Female</td>\n",
       "      <td>0</td>\n",
       "      <td>No</td>\n",
       "      <td>Yes</td>\n",
       "      <td>Month-to-month</td>\n",
       "      <td>No</td>\n",
       "      <td>Yes</td>\n",
       "      <td>18</td>\n",
       "      <td>5089.00</td>\n",
       "      <td>2035.600</td>\n",
       "      <td>254.4500</td>\n",
       "      <td>3.77</td>\n",
       "      <td>21226600</td>\n",
       "      <td>3.75</td>\n",
       "      <td>3.76</td>\n",
       "      <td>3.65</td>\n",
       "      <td>18.25</td>\n",
       "      <td>18.8</td>\n",
       "      <td>0</td>\n",
       "      <td>High School or less</td>\n",
       "    </tr>\n",
       "    <tr>\n",
       "      <th>1</th>\n",
       "      <td>Female</td>\n",
       "      <td>0</td>\n",
       "      <td>No</td>\n",
       "      <td>Yes</td>\n",
       "      <td>Month-to-month</td>\n",
       "      <td>No</td>\n",
       "      <td>Yes</td>\n",
       "      <td>19</td>\n",
       "      <td>5698.12</td>\n",
       "      <td>2279.248</td>\n",
       "      <td>284.9060</td>\n",
       "      <td>3.74</td>\n",
       "      <td>10462800</td>\n",
       "      <td>3.85</td>\n",
       "      <td>3.68</td>\n",
       "      <td>3.65</td>\n",
       "      <td>18.40</td>\n",
       "      <td>18.85</td>\n",
       "      <td>0</td>\n",
       "      <td>High School or less</td>\n",
       "    </tr>\n",
       "    <tr>\n",
       "      <th>2</th>\n",
       "      <td>Male</td>\n",
       "      <td>0</td>\n",
       "      <td>No</td>\n",
       "      <td>Yes</td>\n",
       "      <td>Month-to-month</td>\n",
       "      <td>Yes</td>\n",
       "      <td>No</td>\n",
       "      <td>22</td>\n",
       "      <td>5896.65</td>\n",
       "      <td>2358.660</td>\n",
       "      <td>294.8325</td>\n",
       "      <td>3.89</td>\n",
       "      <td>18761000</td>\n",
       "      <td>4.23</td>\n",
       "      <td>4.29</td>\n",
       "      <td>3.72</td>\n",
       "      <td>18.70</td>\n",
       "      <td>18.9</td>\n",
       "      <td>0</td>\n",
       "      <td>High School or less</td>\n",
       "    </tr>\n",
       "    <tr>\n",
       "      <th>3</th>\n",
       "      <td>Female</td>\n",
       "      <td>1</td>\n",
       "      <td>No</td>\n",
       "      <td>Yes</td>\n",
       "      <td>Month-to-month</td>\n",
       "      <td>Yes</td>\n",
       "      <td>Yes</td>\n",
       "      <td>21</td>\n",
       "      <td>6125.12</td>\n",
       "      <td>2450.048</td>\n",
       "      <td>306.2560</td>\n",
       "      <td>4.35</td>\n",
       "      <td>66130600</td>\n",
       "      <td>4.26</td>\n",
       "      <td>4.31</td>\n",
       "      <td>3.83</td>\n",
       "      <td>18.75</td>\n",
       "      <td>19</td>\n",
       "      <td>0</td>\n",
       "      <td>High School or less</td>\n",
       "    </tr>\n",
       "    <tr>\n",
       "      <th>4</th>\n",
       "      <td>Male</td>\n",
       "      <td>0</td>\n",
       "      <td>No</td>\n",
       "      <td>Yes</td>\n",
       "      <td>Month-to-month</td>\n",
       "      <td>Yes</td>\n",
       "      <td>Yes</td>\n",
       "      <td>23</td>\n",
       "      <td>6245.00</td>\n",
       "      <td>2498.000</td>\n",
       "      <td>312.2500</td>\n",
       "      <td>4.34</td>\n",
       "      <td>26868200</td>\n",
       "      <td>4.79</td>\n",
       "      <td>4.41</td>\n",
       "      <td>4.08</td>\n",
       "      <td>18.80</td>\n",
       "      <td>19.05</td>\n",
       "      <td>1</td>\n",
       "      <td>High School or less</td>\n",
       "    </tr>\n",
       "  </tbody>\n",
       "</table>\n",
       "</div>"
      ],
      "text/plain": [
       "   Gender  Business Dependancies Calls            Type Billing Rating  Age  \\\n",
       "0  Female         0           No   Yes  Month-to-month      No    Yes   18   \n",
       "1  Female         0           No   Yes  Month-to-month      No    Yes   19   \n",
       "2    Male         0           No   Yes  Month-to-month     Yes     No   22   \n",
       "3  Female         1           No   Yes  Month-to-month     Yes    Yes   21   \n",
       "4    Male         0           No   Yes  Month-to-month     Yes    Yes   23   \n",
       "\n",
       "    Salary  Base_pay     Bonus  Unit_Price    Volume  openingbalance  \\\n",
       "0  5089.00  2035.600  254.4500        3.77  21226600            3.75   \n",
       "1  5698.12  2279.248  284.9060        3.74  10462800            3.85   \n",
       "2  5896.65  2358.660  294.8325        3.89  18761000            4.23   \n",
       "3  6125.12  2450.048  306.2560        4.35  66130600            4.26   \n",
       "4  6245.00  2498.000  312.2500        4.34  26868200            4.79   \n",
       "\n",
       "   closingbalance   low  Unit_Sales Total_Sales  Months            Education  \n",
       "0            3.76  3.65       18.25        18.8       0  High School or less  \n",
       "1            3.68  3.65       18.40       18.85       0  High School or less  \n",
       "2            4.29  3.72       18.70        18.9       0  High School or less  \n",
       "3            4.31  3.83       18.75          19       0  High School or less  \n",
       "4            4.41  4.08       18.80       19.05       1  High School or less  "
      ]
     },
     "execution_count": 12,
     "metadata": {},
     "output_type": "execute_result"
    }
   ],
   "source": [
    "# Load the data\n",
    "df = pd.read_csv('New_data_Set.csv')\n",
    "# print the first 5 rows of the data\n",
    "df.head()"
   ]
  },
  {
   "cell_type": "code",
   "execution_count": 3,
   "id": "590308fd",
   "metadata": {},
   "outputs": [
    {
     "data": {
      "text/plain": [
       "(5000, 20)"
      ]
     },
     "execution_count": 3,
     "metadata": {},
     "output_type": "execute_result"
    }
   ],
   "source": [
    "# get the number of rows and columns\n",
    "df.shape"
   ]
  },
  {
   "cell_type": "code",
   "execution_count": 4,
   "id": "ad8d1a2b",
   "metadata": {},
   "outputs": [
    {
     "name": "stdout",
     "output_type": "stream",
     "text": [
      "<class 'pandas.core.frame.DataFrame'>\n",
      "RangeIndex: 5000 entries, 0 to 4999\n",
      "Data columns (total 20 columns):\n",
      " #   Column          Non-Null Count  Dtype  \n",
      "---  ------          --------------  -----  \n",
      " 0   Gender          5000 non-null   object \n",
      " 1   Business        5000 non-null   int64  \n",
      " 2   Dependancies    5000 non-null   object \n",
      " 3   Calls           5000 non-null   object \n",
      " 4   Type            5000 non-null   object \n",
      " 5   Billing         5000 non-null   object \n",
      " 6   Rating          5000 non-null   object \n",
      " 7   Age             5000 non-null   int64  \n",
      " 8   Salary          5000 non-null   float64\n",
      " 9   Base_pay        4977 non-null   float64\n",
      " 10  Bonus           5000 non-null   float64\n",
      " 11  Unit_Price      5000 non-null   float64\n",
      " 12  Volume          5000 non-null   int64  \n",
      " 13  openingbalance  3524 non-null   float64\n",
      " 14  closingbalance  5000 non-null   float64\n",
      " 15  low             5000 non-null   float64\n",
      " 16  Unit_Sales      5000 non-null   float64\n",
      " 17  Total_Sales     4992 non-null   object \n",
      " 18  Months          5000 non-null   int64  \n",
      " 19  Education       5000 non-null   object \n",
      "dtypes: float64(8), int64(4), object(8)\n",
      "memory usage: 781.4+ KB\n"
     ]
    }
   ],
   "source": [
    "# get the data set details\n",
    "df.info()"
   ]
  },
  {
   "cell_type": "code",
   "execution_count": 5,
   "id": "325562a8",
   "metadata": {},
   "outputs": [
    {
     "data": {
      "text/plain": [
       "Gender               0\n",
       "Business             0\n",
       "Dependancies         0\n",
       "Calls                0\n",
       "Type                 0\n",
       "Billing              0\n",
       "Rating               0\n",
       "Age                  0\n",
       "Salary               0\n",
       "Base_pay            23\n",
       "Bonus                0\n",
       "Unit_Price           0\n",
       "Volume               0\n",
       "openingbalance    1476\n",
       "closingbalance       0\n",
       "low                  0\n",
       "Unit_Sales           0\n",
       "Total_Sales          8\n",
       "Months               0\n",
       "Education            0\n",
       "dtype: int64"
      ]
     },
     "execution_count": 5,
     "metadata": {},
     "output_type": "execute_result"
    }
   ],
   "source": [
    "# get the count of the empty values for each column\n",
    "df.isna().sum()"
   ]
  },
  {
   "cell_type": "code",
   "execution_count": 9,
   "id": "b89fec34",
   "metadata": {},
   "outputs": [
    {
     "data": {
      "text/plain": [
       "5000"
      ]
     },
     "execution_count": 9,
     "metadata": {},
     "output_type": "execute_result"
    }
   ],
   "source": [
    "# get total length of dataset\n",
    "len(df)"
   ]
  },
  {
   "cell_type": "code",
   "execution_count": 6,
   "id": "56446986",
   "metadata": {},
   "outputs": [
    {
     "data": {
      "text/plain": [
       "30.14"
      ]
     },
     "execution_count": 6,
     "metadata": {},
     "output_type": "execute_result"
    }
   ],
   "source": [
    "# calculate null values percentage in the data set\n",
    "sum(df.isna().sum())/len(df)*100"
   ]
  },
  {
   "cell_type": "code",
   "execution_count": 10,
   "id": "89822bcd",
   "metadata": {},
   "outputs": [
    {
     "data": {
      "text/plain": [
       "Gender             0.00\n",
       "Business           0.00\n",
       "Dependancies       0.00\n",
       "Calls              0.00\n",
       "Type               0.00\n",
       "Billing            0.00\n",
       "Rating             0.00\n",
       "Age                0.00\n",
       "Salary             0.00\n",
       "Base_pay           0.46\n",
       "Bonus              0.00\n",
       "Unit_Price         0.00\n",
       "Volume             0.00\n",
       "openingbalance    29.52\n",
       "closingbalance     0.00\n",
       "low                0.00\n",
       "Unit_Sales         0.00\n",
       "Total_Sales        0.16\n",
       "Months             0.00\n",
       "Education          0.00\n",
       "dtype: float64"
      ]
     },
     "execution_count": 10,
     "metadata": {},
     "output_type": "execute_result"
    }
   ],
   "source": [
    "# get percentage of the null values for each column\n",
    "# df.isnull().sum()/len(df)*100\n",
    "df.isna().mean()*100"
   ]
  },
  {
   "cell_type": "code",
   "execution_count": 41,
   "id": "b76a60c8",
   "metadata": {},
   "outputs": [
    {
     "data": {
      "text/plain": [
       "<AxesSubplot:>"
      ]
     },
     "execution_count": 41,
     "metadata": {},
     "output_type": "execute_result"
    },
    {
     "data": {
      "image/png": "[encoded data removed]",
      "text/plain": [
       "<Figure size 432x288 with 1 Axes>"
      ]
     },
     "metadata": {
      "needs_background": "light"
     },
     "output_type": "display_data"
    }
   ],
   "source": [
    "# create heatmap to check missing data\n",
    "sns.heatmap(df.isnull(),yticklabels=False,cbar=False,cmap='viridis')"
   ]
  },
  {
   "cell_type": "markdown",
   "id": "77afe42f",
   "metadata": {},
   "source": [
    "# Statistical Analysis"
   ]
  },
  {
   "cell_type": "code",
   "execution_count": 16,
   "id": "4d84c332",
   "metadata": {},
   "outputs": [
    {
     "data": {
      "text/html": [
       "<div>\n",
       "<style scoped>\n",
       "    .dataframe tbody tr th:only-of-type {\n",
       "        vertical-align: middle;\n",
       "    }\n",
       "\n",
       "    .dataframe tbody tr th {\n",
       "        vertical-align: top;\n",
       "    }\n",
       "\n",
       "    .dataframe thead th {\n",
       "        text-align: right;\n",
       "    }\n",
       "</style>\n",
       "<table border=\"1\" class=\"dataframe\">\n",
       "  <thead>\n",
       "    <tr style=\"text-align: right;\">\n",
       "      <th></th>\n",
       "      <th>Business</th>\n",
       "      <th>Age</th>\n",
       "      <th>Salary</th>\n",
       "      <th>Base_pay</th>\n",
       "      <th>Bonus</th>\n",
       "      <th>Unit_Price</th>\n",
       "      <th>Volume</th>\n",
       "      <th>openingbalance</th>\n",
       "      <th>closingbalance</th>\n",
       "      <th>low</th>\n",
       "      <th>Unit_Sales</th>\n",
       "      <th>Months</th>\n",
       "    </tr>\n",
       "  </thead>\n",
       "  <tbody>\n",
       "    <tr>\n",
       "      <th>count</th>\n",
       "      <td>5000.000000</td>\n",
       "      <td>5000.000000</td>\n",
       "      <td>5000.000000</td>\n",
       "      <td>4977.000000</td>\n",
       "      <td>5000.000000</td>\n",
       "      <td>5000.000000</td>\n",
       "      <td>5.000000e+03</td>\n",
       "      <td>3524.000000</td>\n",
       "      <td>5000.000000</td>\n",
       "      <td>5000.000000</td>\n",
       "      <td>5000.00000</td>\n",
       "      <td>5000.00000</td>\n",
       "    </tr>\n",
       "    <tr>\n",
       "      <th>mean</th>\n",
       "      <td>0.160000</td>\n",
       "      <td>51.865000</td>\n",
       "      <td>99821.928553</td>\n",
       "      <td>40046.187707</td>\n",
       "      <td>4991.096428</td>\n",
       "      <td>51.258522</td>\n",
       "      <td>6.761260e+06</td>\n",
       "      <td>43.922020</td>\n",
       "      <td>43.577828</td>\n",
       "      <td>43.034129</td>\n",
       "      <td>64.84151</td>\n",
       "      <td>32.18480</td>\n",
       "    </tr>\n",
       "    <tr>\n",
       "      <th>std</th>\n",
       "      <td>0.366643</td>\n",
       "      <td>8.560691</td>\n",
       "      <td>25376.961744</td>\n",
       "      <td>10135.686075</td>\n",
       "      <td>1268.848087</td>\n",
       "      <td>52.244022</td>\n",
       "      <td>1.620476e+07</td>\n",
       "      <td>38.361497</td>\n",
       "      <td>37.148512</td>\n",
       "      <td>36.760641</td>\n",
       "      <td>30.13968</td>\n",
       "      <td>24.63673</td>\n",
       "    </tr>\n",
       "    <tr>\n",
       "      <th>min</th>\n",
       "      <td>0.000000</td>\n",
       "      <td>18.000000</td>\n",
       "      <td>5089.000000</td>\n",
       "      <td>2035.600000</td>\n",
       "      <td>254.450000</td>\n",
       "      <td>1.440000</td>\n",
       "      <td>0.000000e+00</td>\n",
       "      <td>3.680000</td>\n",
       "      <td>3.680000</td>\n",
       "      <td>3.650000</td>\n",
       "      <td>18.25000</td>\n",
       "      <td>0.00000</td>\n",
       "    </tr>\n",
       "    <tr>\n",
       "      <th>25%</th>\n",
       "      <td>0.000000</td>\n",
       "      <td>47.000000</td>\n",
       "      <td>83890.338980</td>\n",
       "      <td>33720.552420</td>\n",
       "      <td>4194.516950</td>\n",
       "      <td>25.727500</td>\n",
       "      <td>1.283850e+06</td>\n",
       "      <td>22.098750</td>\n",
       "      <td>21.990000</td>\n",
       "      <td>21.718750</td>\n",
       "      <td>35.50000</td>\n",
       "      <td>8.00000</td>\n",
       "    </tr>\n",
       "    <tr>\n",
       "      <th>50%</th>\n",
       "      <td>0.000000</td>\n",
       "      <td>52.000000</td>\n",
       "      <td>100579.378500</td>\n",
       "      <td>40282.016040</td>\n",
       "      <td>5028.968925</td>\n",
       "      <td>39.205000</td>\n",
       "      <td>2.870600e+06</td>\n",
       "      <td>33.119999</td>\n",
       "      <td>33.340000</td>\n",
       "      <td>32.880001</td>\n",
       "      <td>70.50000</td>\n",
       "      <td>28.00000</td>\n",
       "    </tr>\n",
       "    <tr>\n",
       "      <th>75%</th>\n",
       "      <td>0.000000</td>\n",
       "      <td>57.000000</td>\n",
       "      <td>116912.092475</td>\n",
       "      <td>46792.232410</td>\n",
       "      <td>5845.604624</td>\n",
       "      <td>58.715000</td>\n",
       "      <td>6.247100e+06</td>\n",
       "      <td>51.421839</td>\n",
       "      <td>51.117500</td>\n",
       "      <td>50.415000</td>\n",
       "      <td>89.95000</td>\n",
       "      <td>55.00000</td>\n",
       "    </tr>\n",
       "    <tr>\n",
       "      <th>max</th>\n",
       "      <td>1.000000</td>\n",
       "      <td>88.000000</td>\n",
       "      <td>199970.740000</td>\n",
       "      <td>79988.296000</td>\n",
       "      <td>9998.537000</td>\n",
       "      <td>629.511067</td>\n",
       "      <td>3.208684e+08</td>\n",
       "      <td>313.903904</td>\n",
       "      <td>313.688694</td>\n",
       "      <td>312.432438</td>\n",
       "      <td>118.75000</td>\n",
       "      <td>72.00000</td>\n",
       "    </tr>\n",
       "  </tbody>\n",
       "</table>\n",
       "</div>"
      ],
      "text/plain": [
       "          Business          Age         Salary      Base_pay        Bonus  \\\n",
       "count  5000.000000  5000.000000    5000.000000   4977.000000  5000.000000   \n",
       "mean      0.160000    51.865000   99821.928553  40046.187707  4991.096428   \n",
       "std       0.366643     8.560691   25376.961744  10135.686075  1268.848087   \n",
       "min       0.000000    18.000000    5089.000000   2035.600000   254.450000   \n",
       "25%       0.000000    47.000000   83890.338980  33720.552420  4194.516950   \n",
       "50%       0.000000    52.000000  100579.378500  40282.016040  5028.968925   \n",
       "75%       0.000000    57.000000  116912.092475  46792.232410  5845.604624   \n",
       "max       1.000000    88.000000  199970.740000  79988.296000  9998.537000   \n",
       "\n",
       "        Unit_Price        Volume  openingbalance  closingbalance          low  \\\n",
       "count  5000.000000  5.000000e+03     3524.000000     5000.000000  5000.000000   \n",
       "mean     51.258522  6.761260e+06       43.922020       43.577828    43.034129   \n",
       "std      52.244022  1.620476e+07       38.361497       37.148512    36.760641   \n",
       "min       1.440000  0.000000e+00        3.680000        3.680000     3.650000   \n",
       "25%      25.727500  1.283850e+06       22.098750       21.990000    21.718750   \n",
       "50%      39.205000  2.870600e+06       33.119999       33.340000    32.880001   \n",
       "75%      58.715000  6.247100e+06       51.421839       51.117500    50.415000   \n",
       "max     629.511067  3.208684e+08      313.903904      313.688694   312.432438   \n",
       "\n",
       "       Unit_Sales      Months  \n",
       "count  5000.00000  5000.00000  \n",
       "mean     64.84151    32.18480  \n",
       "std      30.13968    24.63673  \n",
       "min      18.25000     0.00000  \n",
       "25%      35.50000     8.00000  \n",
       "50%      70.50000    28.00000  \n",
       "75%      89.95000    55.00000  \n",
       "max     118.75000    72.00000  "
      ]
     },
     "execution_count": 16,
     "metadata": {},
     "output_type": "execute_result"
    }
   ],
   "source": [
    "# statistical summary of the data(\n",
    "df.describe()"
   ]
  },
  {
   "cell_type": "markdown",
   "id": "48069c69",
   "metadata": {},
   "source": [
    "#### From the above output, Age is spread between 18 and 88 with an average of 51.86 and standard deviation of 8.56 and salary between 5089 to 199970.74 with an average of 99821.92 and standard deviation of 25376.96"
   ]
  },
  {
   "cell_type": "code",
   "execution_count": 5,
   "id": "865ccfe7",
   "metadata": {},
   "outputs": [
    {
     "data": {
      "text/plain": [
       "-0.259971462480172"
      ]
     },
     "execution_count": 5,
     "metadata": {},
     "output_type": "execute_result"
    }
   ],
   "source": [
    "# check skewness of feature Age\n",
    "df['Age'].skew()"
   ]
  },
  {
   "cell_type": "code",
   "execution_count": 6,
   "id": "165c0722",
   "metadata": {},
   "outputs": [
    {
     "data": {
      "text/plain": [
       "-0.3960415999978834"
      ]
     },
     "execution_count": 6,
     "metadata": {},
     "output_type": "execute_result"
    }
   ],
   "source": [
    "# check skewness of Salary\n",
    "df['Salary'].skew()"
   ]
  },
  {
   "cell_type": "code",
   "execution_count": 3,
   "id": "3f928913",
   "metadata": {},
   "outputs": [
    {
     "data": {
      "text/plain": [
       "-0.39604160012557094"
      ]
     },
     "execution_count": 3,
     "metadata": {},
     "output_type": "execute_result"
    }
   ],
   "source": [
    "#check skewness of Bonus\n",
    "df['Bonus'].skew()"
   ]
  },
  {
   "cell_type": "code",
   "execution_count": 4,
   "id": "4eee766f",
   "metadata": {},
   "outputs": [
    {
     "data": {
      "text/plain": [
       "-0.3641947982524865"
      ]
     },
     "execution_count": 4,
     "metadata": {},
     "output_type": "execute_result"
    }
   ],
   "source": [
    "#check skewness of Base_pay\n",
    "df['Base_pay'].skew()"
   ]
  },
  {
   "cell_type": "markdown",
   "id": "2a0faf51",
   "metadata": {},
   "source": [
    "# Univariate Analysis"
   ]
  },
  {
   "cell_type": "code",
   "execution_count": 22,
   "id": "31ca2113",
   "metadata": {},
   "outputs": [
    {
     "data": {
      "image/png": "[encoded data removed]",
      "text/plain": [
       "<Figure size 432x288 with 1 Axes>"
      ]
     },
     "metadata": {
      "needs_background": "light"
     },
     "output_type": "display_data"
    }
   ],
   "source": [
    "# check histogram chart for Age\n",
    "sns.histplot(df['Age'], kde=True, color='brown', bins=30)\n",
    "plt.show()"
   ]
  },
  {
   "cell_type": "code",
   "execution_count": 27,
   "id": "9ebb59f6",
   "metadata": {},
   "outputs": [
    {
     "data": {
      "image/png": "[encoded data removed]",
      "text/plain": [
       "<Figure size 432x288 with 1 Axes>"
      ]
     },
     "metadata": {
      "needs_background": "light"
     },
     "output_type": "display_data"
    }
   ],
   "source": [
    "# check histogram chart for Salary\n",
    "sns.histplot(df['Salary'], kde=True, color='violet', bins=20)\n",
    "plt.show()"
   ]
  },
  {
   "cell_type": "code",
   "execution_count": 45,
   "id": "2f96b04c",
   "metadata": {},
   "outputs": [
    {
     "data": {
      "image/png": "[encoded data removed]",
      "text/plain": [
       "<Figure size 432x288 with 1 Axes>"
      ]
     },
     "metadata": {
      "needs_background": "light"
     },
     "output_type": "display_data"
    }
   ],
   "source": [
    "# check histogram chart for Bonus\n",
    "sns.histplot(df['Bonus'], kde=True, color='purple', bins=20)\n",
    "plt.show()"
   ]
  },
  {
   "cell_type": "code",
   "execution_count": 57,
   "id": "360a18bc",
   "metadata": {},
   "outputs": [
    {
     "data": {
      "image/png": "[encoded data removed]",
      "text/plain": [
       "<Figure size 432x288 with 1 Axes>"
      ]
     },
     "metadata": {
      "needs_background": "light"
     },
     "output_type": "display_data"
    }
   ],
   "source": [
    "# check histogram chart for Base pay\n",
    "sns.histplot(df['Base_pay'].dropna(), kde=True, color='darkred', bins=20)\n",
    "plt.show()"
   ]
  },
  {
   "cell_type": "markdown",
   "id": "952b2633",
   "metadata": {},
   "source": [
    "#### From the above figures Age is dense around 48 to 52 and Salary is between 80K to 125K, Bonus is between 4k to 6k and Base pay is desnse around 30k to 50k"
   ]
  },
  {
   "cell_type": "markdown",
   "id": "fc07d437",
   "metadata": {},
   "source": [
    "# Handling Categorical Data"
   ]
  },
  {
   "cell_type": "code",
   "execution_count": 17,
   "id": "5cd8040c",
   "metadata": {
    "scrolled": true
   },
   "outputs": [
    {
     "name": "stdout",
     "output_type": "stream",
     "text": [
      "Gender : ['Female' 'Male']\n",
      "Male      2528\n",
      "Female    2472\n",
      "Name: Gender, dtype: int64\n",
      "----------------------------------------------------\n",
      "Dependancies : ['No' 'Yes']\n",
      "No     3524\n",
      "Yes    1476\n",
      "Name: Dependancies, dtype: int64\n",
      "----------------------------------------------------\n",
      "Calls : ['Yes' 'No']\n",
      "Yes    4539\n",
      "No      461\n",
      "Name: Calls, dtype: int64\n",
      "----------------------------------------------------\n",
      "Type : ['Month-to-month' 'Two year' 'One year']\n",
      "Month-to-month    2777\n",
      "Two year          1195\n",
      "One year          1028\n",
      "Name: Type, dtype: int64\n",
      "----------------------------------------------------\n",
      "Billing : ['No' 'Yes']\n",
      "Yes    2956\n",
      "No     2044\n",
      "Name: Billing, dtype: int64\n",
      "----------------------------------------------------\n",
      "Rating : ['Yes' 'No']\n",
      "No     3682\n",
      "Yes    1318\n",
      "Name: Rating, dtype: int64\n",
      "----------------------------------------------------\n",
      "Total_Sales : ['18.8' '18.85' '18.9' ... '8672.45' '8684.8' ' ']\n",
      "           8\n",
      "19.75      6\n",
      "20.2       6\n",
      "20.15      6\n",
      "19.45      6\n",
      "          ..\n",
      "653.9      1\n",
      "1888.65    1\n",
      "1412.4     1\n",
      "334.8      1\n",
      "3942.45    1\n",
      "Name: Total_Sales, Length: 4706, dtype: int64\n",
      "----------------------------------------------------\n",
      "Education : ['High School or less' 'Intermediate' 'Graduation' 'PG']\n",
      "PG                     2979\n",
      "Graduation             1980\n",
      "Intermediate             27\n",
      "High School or less      14\n",
      "Name: Education, dtype: int64\n",
      "----------------------------------------------------\n"
     ]
    }
   ],
   "source": [
    "# print all of the data types and their unique values\n",
    "for column in df.columns:\n",
    "    if df[column].dtype == object:\n",
    "        print(str(column) + ' : ' + str(df[column].unique()))\n",
    "        print(df[column].value_counts())\n",
    "        print('----------------------------------------------------')"
   ]
  },
  {
   "cell_type": "code",
   "execution_count": 36,
   "id": "59104691",
   "metadata": {},
   "outputs": [
    {
     "data": {
      "image/png": "[encoded data removed]",
      "text/plain": [
       "<Figure size 432x288 with 1 Axes>"
      ]
     },
     "metadata": {
      "needs_background": "light"
     },
     "output_type": "display_data"
    }
   ],
   "source": [
    "# check the Gender count by using bar graph\n",
    "sns.countplot(x='Gender', data=df)\n",
    "plt.show()"
   ]
  },
  {
   "cell_type": "code",
   "execution_count": 50,
   "id": "133448b6",
   "metadata": {},
   "outputs": [
    {
     "data": {
      "image/png": "[encoded data removed]",
      "text/plain": [
       "<Figure size 432x288 with 1 Axes>"
      ]
     },
     "metadata": {
      "needs_background": "light"
     },
     "output_type": "display_data"
    }
   ],
   "source": [
    "# check the employee subscribe to billing plans or no\n",
    "sns.countplot(x='Billing', data=df)\n",
    "plt.show()"
   ]
  },
  {
   "cell_type": "code",
   "execution_count": 51,
   "id": "02b99834",
   "metadata": {},
   "outputs": [
    {
     "data": {
      "image/png": "[encoded data removed]",
      "text/plain": [
       "<Figure size 432x288 with 1 Axes>"
      ]
     },
     "metadata": {
      "needs_background": "light"
     },
     "output_type": "display_data"
    }
   ],
   "source": [
    "# check if the employees has been given a rating by a superior or no\n",
    "sns.countplot(x='Rating', data=df)\n",
    "plt.show()"
   ]
  },
  {
   "cell_type": "code",
   "execution_count": 65,
   "id": "5b101936",
   "metadata": {},
   "outputs": [
    {
     "data": {
      "image/png": "[encoded data removed]",
      "text/plain": [
       "<Figure size 432x288 with 1 Axes>"
      ]
     },
     "metadata": {
      "needs_background": "light"
     },
     "output_type": "display_data"
    }
   ],
   "source": [
    "# check if the number of people dependant on the employee\n",
    "sns.countplot(x='Dependancies', data=df)\n",
    "plt.show()"
   ]
  },
  {
   "cell_type": "code",
   "execution_count": 66,
   "id": "6d742a8b",
   "metadata": {},
   "outputs": [
    {
     "data": {
      "image/png": "[encoded data removed]",
      "text/plain": [
       "<Figure size 432x288 with 1 Axes>"
      ]
     },
     "metadata": {
      "needs_background": "light"
     },
     "output_type": "display_data"
    }
   ],
   "source": [
    "# check if the employee has authority to make calls or not\n",
    "sns.countplot(x='Calls', data=df)\n",
    "plt.show()"
   ]
  },
  {
   "cell_type": "code",
   "execution_count": 156,
   "id": "6c0595d6",
   "metadata": {},
   "outputs": [
    {
     "data": {
      "image/png": "[encoded data removed]",
      "text/plain": [
       "<Figure size 432x288 with 1 Axes>"
      ]
     },
     "metadata": {
      "needs_background": "light"
     },
     "output_type": "display_data"
    }
   ],
   "source": [
    "# check if the employee salary settlement type\n",
    "sns.countplot(x='Type', data=df)\n",
    "plt.show()"
   ]
  },
  {
   "cell_type": "code",
   "execution_count": 157,
   "id": "53cb6e01",
   "metadata": {},
   "outputs": [
    {
     "data": {
      "image/png": "[encoded data removed]",
      "text/plain": [
       "<Figure size 432x288 with 1 Axes>"
      ]
     },
     "metadata": {
      "needs_background": "light"
     },
     "output_type": "display_data"
    }
   ],
   "source": [
    "# check if the employee Education background\n",
    "sns.countplot(x='Education', data=df)\n",
    "plt.show()"
   ]
  },
  {
   "cell_type": "code",
   "execution_count": 28,
   "id": "1671d879",
   "metadata": {},
   "outputs": [
    {
     "data": {
      "image/png": "[encoded data removed]",
      "text/plain": [
       "<Figure size 432x288 with 1 Axes>"
      ]
     },
     "metadata": {
      "needs_background": "light"
     },
     "output_type": "display_data"
    }
   ],
   "source": [
    "# check the employee has a business or not by bar graph\n",
    "sns.countplot(x='Business', data=df)\n",
    "plt.show()"
   ]
  },
  {
   "cell_type": "code",
   "execution_count": 18,
   "id": "8778b052",
   "metadata": {},
   "outputs": [
    {
     "data": {
      "text/plain": [
       "0    4200\n",
       "1     800\n",
       "Name: Business, dtype: int64"
      ]
     },
     "execution_count": 18,
     "metadata": {},
     "output_type": "execute_result"
    }
   ],
   "source": [
    "# Get the count if the employee has the business or no\n",
    "df['Business'].value_counts()"
   ]
  },
  {
   "cell_type": "code",
   "execution_count": 13,
   "id": "c884f007",
   "metadata": {},
   "outputs": [],
   "source": [
    "# convert data type from object to float for Total Sales\n",
    "df['Total_Sales'] = pd.to_numeric(df['Total_Sales'],errors='coerce')"
   ]
  },
  {
   "cell_type": "code",
   "execution_count": 20,
   "id": "4ce09610",
   "metadata": {},
   "outputs": [
    {
     "name": "stdout",
     "output_type": "stream",
     "text": [
      "<class 'pandas.core.frame.DataFrame'>\n",
      "RangeIndex: 5000 entries, 0 to 4999\n",
      "Data columns (total 20 columns):\n",
      " #   Column          Non-Null Count  Dtype  \n",
      "---  ------          --------------  -----  \n",
      " 0   Gender          5000 non-null   object \n",
      " 1   Business        5000 non-null   int64  \n",
      " 2   Dependancies    5000 non-null   object \n",
      " 3   Calls           5000 non-null   object \n",
      " 4   Type            5000 non-null   object \n",
      " 5   Billing         5000 non-null   object \n",
      " 6   Rating          5000 non-null   object \n",
      " 7   Age             5000 non-null   int64  \n",
      " 8   Salary          5000 non-null   float64\n",
      " 9   Base_pay        4977 non-null   float64\n",
      " 10  Bonus           5000 non-null   float64\n",
      " 11  Unit_Price      5000 non-null   float64\n",
      " 12  Volume          5000 non-null   int64  \n",
      " 13  openingbalance  3524 non-null   float64\n",
      " 14  closingbalance  5000 non-null   float64\n",
      " 15  low             5000 non-null   float64\n",
      " 16  Unit_Sales      5000 non-null   float64\n",
      " 17  Total_Sales     4984 non-null   float64\n",
      " 18  Months          5000 non-null   int64  \n",
      " 19  Education       5000 non-null   object \n",
      "dtypes: float64(9), int64(4), object(7)\n",
      "memory usage: 781.4+ KB\n"
     ]
    }
   ],
   "source": [
    "# data set information about null and data type\n",
    "df.info()"
   ]
  },
  {
   "cell_type": "code",
   "execution_count": 14,
   "id": "5b9b273c",
   "metadata": {},
   "outputs": [],
   "source": [
    "# defining function to impute missing data for variable\n",
    "def impute_nan(df,variable,median):\n",
    "    df[variable+'_median']=df[variable].fillna(median)"
   ]
  },
  {
   "cell_type": "code",
   "execution_count": 16,
   "id": "9cbd23ff",
   "metadata": {},
   "outputs": [
    {
     "data": {
      "text/plain": [
       "33.119999"
      ]
     },
     "execution_count": 16,
     "metadata": {},
     "output_type": "execute_result"
    }
   ],
   "source": [
    "# calculate median for openingbalance\n",
    "median=df.openingbalance.median()\n",
    "median"
   ]
  },
  {
   "cell_type": "code",
   "execution_count": 17,
   "id": "e95bae9d",
   "metadata": {},
   "outputs": [
    {
     "data": {
      "text/plain": [
       "40282.01604"
      ]
     },
     "execution_count": 17,
     "metadata": {},
     "output_type": "execute_result"
    }
   ],
   "source": [
    "# calculate median for Base pay\n",
    "median=df.Base_pay.median()\n",
    "median"
   ]
  },
  {
   "cell_type": "code",
   "execution_count": 18,
   "id": "0a9c5a1f",
   "metadata": {},
   "outputs": [
    {
     "data": {
      "text/plain": [
       "1395.65"
      ]
     },
     "execution_count": 18,
     "metadata": {},
     "output_type": "execute_result"
    }
   ],
   "source": [
    "# calculate median for Total Sales\n",
    "median=df.Total_Sales.median()\n",
    "median"
   ]
  },
  {
   "cell_type": "code",
   "execution_count": 19,
   "id": "7c938c15",
   "metadata": {},
   "outputs": [],
   "source": [
    "# assigning impute function to create new column for openingbalance\n",
    "impute_nan(df,'openingbalance',median)"
   ]
  },
  {
   "cell_type": "code",
   "execution_count": 20,
   "id": "d00602cb",
   "metadata": {},
   "outputs": [],
   "source": [
    "# assigning impute function to create new column for Base_pay\n",
    "impute_nan(df,'Base_pay',median)"
   ]
  },
  {
   "cell_type": "code",
   "execution_count": 21,
   "id": "d40d0ef7",
   "metadata": {},
   "outputs": [],
   "source": [
    "# assigning impute function to create new column for Total_Sales\n",
    "impute_nan(df,'Total_Sales',median)"
   ]
  },
  {
   "cell_type": "code",
   "execution_count": 22,
   "id": "f8de753d",
   "metadata": {},
   "outputs": [
    {
     "name": "stdout",
     "output_type": "stream",
     "text": [
      "38.3614973839399\n",
      "617.4692513011614\n"
     ]
    }
   ],
   "source": [
    "# check the standard deviation for both original and imputed column\n",
    "print(df['openingbalance'].std())\n",
    "print(df['openingbalance_median'].std())"
   ]
  },
  {
   "cell_type": "code",
   "execution_count": 23,
   "id": "889c31b6",
   "metadata": {},
   "outputs": [
    {
     "name": "stdout",
     "output_type": "stream",
     "text": [
      "10135.686074597432\n",
      "10445.142541116757\n"
     ]
    }
   ],
   "source": [
    "# check the standard deviation for both original and imputed column\n",
    "print(df['Base_pay'].std())\n",
    "print(df['Base_pay_median'].std())"
   ]
  },
  {
   "cell_type": "code",
   "execution_count": 24,
   "id": "357d8a56",
   "metadata": {},
   "outputs": [
    {
     "name": "stdout",
     "output_type": "stream",
     "text": [
      "2267.7174353303058\n",
      "2264.626949931423\n"
     ]
    }
   ],
   "source": [
    "# check the standard deviation for both original and imputed column\n",
    "print(df['Total_Sales'].std())\n",
    "print(df['Total_Sales_median'].std())"
   ]
  },
  {
   "cell_type": "code",
   "execution_count": 25,
   "id": "115facbc",
   "metadata": {},
   "outputs": [],
   "source": [
    "# dropping openingbalance, Total Sales, Base pay columns from data frame\n",
    "df.drop('Base_pay', axis=1, inplace=True)\n",
    "df.drop('Total_Sales', axis=1, inplace=True)\n",
    "df.drop('openingbalance', axis=1, inplace=True)"
   ]
  },
  {
   "cell_type": "code",
   "execution_count": 32,
   "id": "0e565271",
   "metadata": {},
   "outputs": [
    {
     "name": "stdout",
     "output_type": "stream",
     "text": [
      "<class 'pandas.core.frame.DataFrame'>\n",
      "RangeIndex: 5000 entries, 0 to 4999\n",
      "Data columns (total 20 columns):\n",
      " #   Column                 Non-Null Count  Dtype  \n",
      "---  ------                 --------------  -----  \n",
      " 0   Gender                 5000 non-null   object \n",
      " 1   Business               5000 non-null   int64  \n",
      " 2   Dependancies           5000 non-null   object \n",
      " 3   Calls                  5000 non-null   object \n",
      " 4   Type                   5000 non-null   object \n",
      " 5   Billing                5000 non-null   object \n",
      " 6   Rating                 5000 non-null   object \n",
      " 7   Age                    5000 non-null   int64  \n",
      " 8   Salary                 5000 non-null   float64\n",
      " 9   Bonus                  5000 non-null   float64\n",
      " 10  Unit_Price             5000 non-null   float64\n",
      " 11  Volume                 5000 non-null   int64  \n",
      " 12  closingbalance         5000 non-null   float64\n",
      " 13  low                    5000 non-null   float64\n",
      " 14  Unit_Sales             5000 non-null   float64\n",
      " 15  Months                 5000 non-null   int64  \n",
      " 16  Education              5000 non-null   object \n",
      " 17  openingbalance_median  5000 non-null   float64\n",
      " 18  Base_pay_median        5000 non-null   float64\n",
      " 19  Total_Sales_median     5000 non-null   float64\n",
      "dtypes: float64(9), int64(4), object(7)\n",
      "memory usage: 781.4+ KB\n"
     ]
    }
   ],
   "source": [
    "# check the data set information\n",
    "df.info()"
   ]
  },
  {
   "cell_type": "code",
   "execution_count": 33,
   "id": "bf1cdbd3",
   "metadata": {},
   "outputs": [
    {
     "data": {
      "text/plain": [
       "Gender                   0\n",
       "Business                 0\n",
       "Dependancies             0\n",
       "Calls                    0\n",
       "Type                     0\n",
       "Billing                  0\n",
       "Rating                   0\n",
       "Age                      0\n",
       "Salary                   0\n",
       "Bonus                    0\n",
       "Unit_Price               0\n",
       "Volume                   0\n",
       "closingbalance           0\n",
       "low                      0\n",
       "Unit_Sales               0\n",
       "Months                   0\n",
       "Education                0\n",
       "openingbalance_median    0\n",
       "Base_pay_median          0\n",
       "Total_Sales_median       0\n",
       "dtype: int64"
      ]
     },
     "execution_count": 33,
     "metadata": {},
     "output_type": "execute_result"
    }
   ],
   "source": [
    "# checking missing data\n",
    "df.isna().sum()"
   ]
  },
  {
   "cell_type": "code",
   "execution_count": 26,
   "id": "353ac0f7",
   "metadata": {},
   "outputs": [
    {
     "data": {
      "text/html": [
       "<div>\n",
       "<style scoped>\n",
       "    .dataframe tbody tr th:only-of-type {\n",
       "        vertical-align: middle;\n",
       "    }\n",
       "\n",
       "    .dataframe tbody tr th {\n",
       "        vertical-align: top;\n",
       "    }\n",
       "\n",
       "    .dataframe thead th {\n",
       "        text-align: right;\n",
       "    }\n",
       "</style>\n",
       "<table border=\"1\" class=\"dataframe\">\n",
       "  <thead>\n",
       "    <tr style=\"text-align: right;\">\n",
       "      <th></th>\n",
       "      <th>Business</th>\n",
       "      <th>Age</th>\n",
       "      <th>Salary</th>\n",
       "      <th>Bonus</th>\n",
       "      <th>Unit_Price</th>\n",
       "      <th>Volume</th>\n",
       "      <th>closingbalance</th>\n",
       "      <th>low</th>\n",
       "      <th>Unit_Sales</th>\n",
       "      <th>Months</th>\n",
       "      <th>openingbalance_median</th>\n",
       "      <th>Base_pay_median</th>\n",
       "      <th>Total_Sales_median</th>\n",
       "    </tr>\n",
       "  </thead>\n",
       "  <tbody>\n",
       "    <tr>\n",
       "      <th>count</th>\n",
       "      <td>5000.000000</td>\n",
       "      <td>5000.000000</td>\n",
       "      <td>5000.000000</td>\n",
       "      <td>5000.000000</td>\n",
       "      <td>5000.000000</td>\n",
       "      <td>5.000000e+03</td>\n",
       "      <td>5000.000000</td>\n",
       "      <td>5000.000000</td>\n",
       "      <td>5000.00000</td>\n",
       "      <td>5000.00000</td>\n",
       "      <td>5000.000000</td>\n",
       "      <td>5000.000000</td>\n",
       "      <td>5000.00000</td>\n",
       "    </tr>\n",
       "    <tr>\n",
       "      <th>mean</th>\n",
       "      <td>0.160000</td>\n",
       "      <td>51.865000</td>\n",
       "      <td>99821.928553</td>\n",
       "      <td>4991.096428</td>\n",
       "      <td>51.258522</td>\n",
       "      <td>6.761260e+06</td>\n",
       "      <td>43.577828</td>\n",
       "      <td>43.034129</td>\n",
       "      <td>64.84151</td>\n",
       "      <td>32.18480</td>\n",
       "      <td>442.952120</td>\n",
       "      <td>39868.395233</td>\n",
       "      <td>2269.56846</td>\n",
       "    </tr>\n",
       "    <tr>\n",
       "      <th>std</th>\n",
       "      <td>0.366643</td>\n",
       "      <td>8.560691</td>\n",
       "      <td>25376.961744</td>\n",
       "      <td>1268.848087</td>\n",
       "      <td>52.244022</td>\n",
       "      <td>1.620476e+07</td>\n",
       "      <td>37.148512</td>\n",
       "      <td>36.760641</td>\n",
       "      <td>30.13968</td>\n",
       "      <td>24.63673</td>\n",
       "      <td>617.469251</td>\n",
       "      <td>10445.142541</td>\n",
       "      <td>2264.62695</td>\n",
       "    </tr>\n",
       "    <tr>\n",
       "      <th>min</th>\n",
       "      <td>0.000000</td>\n",
       "      <td>18.000000</td>\n",
       "      <td>5089.000000</td>\n",
       "      <td>254.450000</td>\n",
       "      <td>1.440000</td>\n",
       "      <td>0.000000e+00</td>\n",
       "      <td>3.680000</td>\n",
       "      <td>3.650000</td>\n",
       "      <td>18.25000</td>\n",
       "      <td>0.00000</td>\n",
       "      <td>3.680000</td>\n",
       "      <td>1395.650000</td>\n",
       "      <td>18.80000</td>\n",
       "    </tr>\n",
       "    <tr>\n",
       "      <th>25%</th>\n",
       "      <td>0.000000</td>\n",
       "      <td>47.000000</td>\n",
       "      <td>83890.338980</td>\n",
       "      <td>4194.516950</td>\n",
       "      <td>25.727500</td>\n",
       "      <td>1.283850e+06</td>\n",
       "      <td>21.990000</td>\n",
       "      <td>21.718750</td>\n",
       "      <td>35.50000</td>\n",
       "      <td>8.00000</td>\n",
       "      <td>26.397633</td>\n",
       "      <td>33556.135588</td>\n",
       "      <td>389.21250</td>\n",
       "    </tr>\n",
       "    <tr>\n",
       "      <th>50%</th>\n",
       "      <td>0.000000</td>\n",
       "      <td>52.000000</td>\n",
       "      <td>100579.378500</td>\n",
       "      <td>5028.968925</td>\n",
       "      <td>39.205000</td>\n",
       "      <td>2.870600e+06</td>\n",
       "      <td>33.340000</td>\n",
       "      <td>32.880001</td>\n",
       "      <td>70.50000</td>\n",
       "      <td>28.00000</td>\n",
       "      <td>48.209999</td>\n",
       "      <td>40231.751415</td>\n",
       "      <td>1395.65000</td>\n",
       "    </tr>\n",
       "    <tr>\n",
       "      <th>75%</th>\n",
       "      <td>0.000000</td>\n",
       "      <td>57.000000</td>\n",
       "      <td>116912.092475</td>\n",
       "      <td>5845.604624</td>\n",
       "      <td>58.715000</td>\n",
       "      <td>6.247100e+06</td>\n",
       "      <td>51.117500</td>\n",
       "      <td>50.415000</td>\n",
       "      <td>89.95000</td>\n",
       "      <td>55.00000</td>\n",
       "      <td>1395.650000</td>\n",
       "      <td>46764.836975</td>\n",
       "      <td>3722.33750</td>\n",
       "    </tr>\n",
       "    <tr>\n",
       "      <th>max</th>\n",
       "      <td>1.000000</td>\n",
       "      <td>88.000000</td>\n",
       "      <td>199970.740000</td>\n",
       "      <td>9998.537000</td>\n",
       "      <td>629.511067</td>\n",
       "      <td>3.208684e+08</td>\n",
       "      <td>313.688694</td>\n",
       "      <td>312.432438</td>\n",
       "      <td>118.75000</td>\n",
       "      <td>72.00000</td>\n",
       "      <td>1395.650000</td>\n",
       "      <td>79988.296000</td>\n",
       "      <td>8684.80000</td>\n",
       "    </tr>\n",
       "  </tbody>\n",
       "</table>\n",
       "</div>"
      ],
      "text/plain": [
       "          Business          Age         Salary        Bonus   Unit_Price  \\\n",
       "count  5000.000000  5000.000000    5000.000000  5000.000000  5000.000000   \n",
       "mean      0.160000    51.865000   99821.928553  4991.096428    51.258522   \n",
       "std       0.366643     8.560691   25376.961744  1268.848087    52.244022   \n",
       "min       0.000000    18.000000    5089.000000   254.450000     1.440000   \n",
       "25%       0.000000    47.000000   83890.338980  4194.516950    25.727500   \n",
       "50%       0.000000    52.000000  100579.378500  5028.968925    39.205000   \n",
       "75%       0.000000    57.000000  116912.092475  5845.604624    58.715000   \n",
       "max       1.000000    88.000000  199970.740000  9998.537000   629.511067   \n",
       "\n",
       "             Volume  closingbalance          low  Unit_Sales      Months  \\\n",
       "count  5.000000e+03     5000.000000  5000.000000  5000.00000  5000.00000   \n",
       "mean   6.761260e+06       43.577828    43.034129    64.84151    32.18480   \n",
       "std    1.620476e+07       37.148512    36.760641    30.13968    24.63673   \n",
       "min    0.000000e+00        3.680000     3.650000    18.25000     0.00000   \n",
       "25%    1.283850e+06       21.990000    21.718750    35.50000     8.00000   \n",
       "50%    2.870600e+06       33.340000    32.880001    70.50000    28.00000   \n",
       "75%    6.247100e+06       51.117500    50.415000    89.95000    55.00000   \n",
       "max    3.208684e+08      313.688694   312.432438   118.75000    72.00000   \n",
       "\n",
       "       openingbalance_median  Base_pay_median  Total_Sales_median  \n",
       "count            5000.000000      5000.000000          5000.00000  \n",
       "mean              442.952120     39868.395233          2269.56846  \n",
       "std               617.469251     10445.142541          2264.62695  \n",
       "min                 3.680000      1395.650000            18.80000  \n",
       "25%                26.397633     33556.135588           389.21250  \n",
       "50%                48.209999     40231.751415          1395.65000  \n",
       "75%              1395.650000     46764.836975          3722.33750  \n",
       "max              1395.650000     79988.296000          8684.80000  "
      ]
     },
     "execution_count": 26,
     "metadata": {},
     "output_type": "execute_result"
    }
   ],
   "source": [
    "# check the statistics of the data set\n",
    "df.describe()"
   ]
  },
  {
   "cell_type": "code",
   "execution_count": 5,
   "id": "8975d5d0",
   "metadata": {},
   "outputs": [
    {
     "data": {
      "text/plain": [
       "<AxesSubplot:ylabel='Frequency'>"
      ]
     },
     "execution_count": 5,
     "metadata": {},
     "output_type": "execute_result"
    },
    {
     "data": {
      "image/png": "[encoded data removed]",
      "text/plain": [
       "<Figure size 1080x504 with 1 Axes>"
      ]
     },
     "metadata": {
      "needs_background": "light"
     },
     "output_type": "display_data"
    }
   ],
   "source": [
    "# histplot for target variable salary between 5089 to 199971\n",
    "df['Salary'].plot.hist(figsize=(15,7))"
   ]
  },
  {
   "cell_type": "code",
   "execution_count": 7,
   "id": "83eeabbc",
   "metadata": {},
   "outputs": [
    {
     "data": {
      "text/plain": [
       "<AxesSubplot:ylabel='Frequency'>"
      ]
     },
     "execution_count": 7,
     "metadata": {},
     "output_type": "execute_result"
    },
    {
     "data": {
      "image/png": "[encoded data removed]",
      "text/plain": [
       "<Figure size 1080x504 with 1 Axes>"
      ]
     },
     "metadata": {
      "needs_background": "light"
     },
     "output_type": "display_data"
    }
   ],
   "source": [
    "# histplot for Age between 18 to 88\n",
    "df['Age'].plot.hist(figsize=(15,7))"
   ]
  },
  {
   "cell_type": "code",
   "execution_count": 8,
   "id": "614f1b53",
   "metadata": {},
   "outputs": [
    {
     "data": {
      "text/plain": [
       "<AxesSubplot:ylabel='Frequency'>"
      ]
     },
     "execution_count": 8,
     "metadata": {},
     "output_type": "execute_result"
    },
    {
     "data": {
      "image/png": "[encoded data removed]",
      "text/plain": [
       "<Figure size 1080x504 with 1 Axes>"
      ]
     },
     "metadata": {
      "needs_background": "light"
     },
     "output_type": "display_data"
    }
   ],
   "source": [
    "# histplot for Base pay 1396 to 79988\n",
    "df['Base_pay'].plot.hist(figsize=(15,7))"
   ]
  },
  {
   "cell_type": "code",
   "execution_count": 9,
   "id": "0022bb5b",
   "metadata": {},
   "outputs": [
    {
     "data": {
      "text/plain": [
       "<AxesSubplot:ylabel='Frequency'>"
      ]
     },
     "execution_count": 9,
     "metadata": {},
     "output_type": "execute_result"
    },
    {
     "data": {
      "image/png": "[encoded data removed]",
      "text/plain": [
       "<Figure size 1080x504 with 1 Axes>"
      ]
     },
     "metadata": {
      "needs_background": "light"
     },
     "output_type": "display_data"
    }
   ],
   "source": [
    "# histplot for Bonus 254 to 9999\n",
    "df['Bonus'].plot.hist(figsize=(15,7))"
   ]
  },
  {
   "cell_type": "markdown",
   "id": "0469e5ba",
   "metadata": {},
   "source": [
    "# Bivariate Analysis"
   ]
  },
  {
   "cell_type": "code",
   "execution_count": 5,
   "id": "9a29544b",
   "metadata": {},
   "outputs": [
    {
     "data": {
      "text/plain": [
       "<AxesSubplot:xlabel='Age', ylabel='count'>"
      ]
     },
     "execution_count": 5,
     "metadata": {},
     "output_type": "execute_result"
    },
    {
     "data": {
      "image/png": "[encoded data removed]",
      "text/plain": [
       "<Figure size 1080x504 with 1 Axes>"
      ]
     },
     "metadata": {
      "needs_background": "light"
     },
     "output_type": "display_data"
    }
   ],
   "source": [
    "# plotting a graph to know relationship between Age and Rating\n",
    "plt.subplots(figsize=(15,7))\n",
    "sns.countplot(x='Age', hue='Rating', data=df, palette='colorblind')"
   ]
  },
  {
   "cell_type": "markdown",
   "id": "2bdcb8d6",
   "metadata": {},
   "source": [
    "Age from 48 to 56 most of the people are given a rating by a superior"
   ]
  },
  {
   "cell_type": "code",
   "execution_count": 35,
   "id": "3123bac4",
   "metadata": {},
   "outputs": [
    {
     "data": {
      "text/plain": [
       "<AxesSubplot:xlabel='Age', ylabel='count'>"
      ]
     },
     "execution_count": 35,
     "metadata": {},
     "output_type": "execute_result"
    },
    {
     "data": {
      "image/png": "[encoded data removed]",
      "text/plain": [
       "<Figure size 1080x504 with 1 Axes>"
      ]
     },
     "metadata": {
      "needs_background": "light"
     },
     "output_type": "display_data"
    }
   ],
   "source": [
    "# plotting a graph to know relationship between Age and Dependancies\n",
    "plt.subplots(figsize=(15,7))\n",
    "sns.countplot(x='Age', hue='Dependancies', data=df, palette='colorblind')"
   ]
  },
  {
   "cell_type": "markdown",
   "id": "2acb3fe6",
   "metadata": {},
   "source": [
    "Age from 47 to 56 most of the people are having dependancies"
   ]
  },
  {
   "cell_type": "code",
   "execution_count": 36,
   "id": "a5899e4d",
   "metadata": {},
   "outputs": [
    {
     "data": {
      "text/plain": [
       "<AxesSubplot:xlabel='Age', ylabel='count'>"
      ]
     },
     "execution_count": 36,
     "metadata": {},
     "output_type": "execute_result"
    },
    {
     "data": {
      "image/png": "[encoded data removed]",
      "text/plain": [
       "<Figure size 1080x504 with 1 Axes>"
      ]
     },
     "metadata": {
      "needs_background": "light"
     },
     "output_type": "display_data"
    }
   ],
   "source": [
    "# plotting a graph to know relationship between Age and Calls\n",
    "plt.subplots(figsize=(15,7))\n",
    "sns.countplot(x='Age', hue='Calls', data=df, palette='colorblind')"
   ]
  },
  {
   "cell_type": "markdown",
   "id": "a4a883b9",
   "metadata": {},
   "source": [
    "Most of the people from age group 50 to 55 are having authority to make calls"
   ]
  },
  {
   "cell_type": "code",
   "execution_count": 37,
   "id": "4e167590",
   "metadata": {},
   "outputs": [
    {
     "data": {
      "text/plain": [
       "<AxesSubplot:xlabel='Age', ylabel='count'>"
      ]
     },
     "execution_count": 37,
     "metadata": {},
     "output_type": "execute_result"
    },
    {
     "data": {
      "image/png": "[encoded data removed]",
      "text/plain": [
       "<Figure size 1080x504 with 1 Axes>"
      ]
     },
     "metadata": {
      "needs_background": "light"
     },
     "output_type": "display_data"
    }
   ],
   "source": [
    "# plotting a graph to know relationship between Age and Billing\n",
    "plt.subplots(figsize=(15,7))\n",
    "sns.countplot(x='Age', hue='Billing', data=df, palette='colorblind')"
   ]
  },
  {
   "cell_type": "markdown",
   "id": "3c2a222a",
   "metadata": {},
   "source": [
    "From the age 50 to 57 most of them are Subscribed to billing plans"
   ]
  },
  {
   "cell_type": "code",
   "execution_count": 15,
   "id": "7ba8d892",
   "metadata": {},
   "outputs": [
    {
     "data": {
      "text/plain": [
       "<Figure size 720x216 with 0 Axes>"
      ]
     },
     "metadata": {},
     "output_type": "display_data"
    },
    {
     "data": {
      "image/png": "[encoded data removed]",
      "text/plain": [
       "<Figure size 720x360 with 2 Axes>"
      ]
     },
     "metadata": {
      "needs_background": "light"
     },
     "output_type": "display_data"
    }
   ],
   "source": [
    "# visualize count of gender whether subscribe to billing plans yes or no\n",
    "plt.figure(figsize=(10, 3))\n",
    "sns.catplot(x='Billing', col='Gender', kind='count', data=df,palette=\"husl\");\n",
    "plt.show()"
   ]
  },
  {
   "cell_type": "code",
   "execution_count": 16,
   "id": "31fda0bc",
   "metadata": {},
   "outputs": [
    {
     "data": {
      "text/plain": [
       "<Figure size 720x216 with 0 Axes>"
      ]
     },
     "metadata": {},
     "output_type": "display_data"
    },
    {
     "data": {
      "image/png": "[encoded data removed]",
      "text/plain": [
       "<Figure size 720x360 with 2 Axes>"
      ]
     },
     "metadata": {
      "needs_background": "light"
     },
     "output_type": "display_data"
    }
   ],
   "source": [
    "# visualize count of gender whether having business or no\n",
    "plt.figure(figsize=(10, 3))\n",
    "sns.catplot(x='Business', col='Gender', kind='count', data=df,palette=\"husl\");\n",
    "plt.show()"
   ]
  },
  {
   "cell_type": "code",
   "execution_count": 17,
   "id": "bdb9a1ee",
   "metadata": {},
   "outputs": [
    {
     "data": {
      "text/plain": [
       "<Figure size 720x216 with 0 Axes>"
      ]
     },
     "metadata": {},
     "output_type": "display_data"
    },
    {
     "data": {
      "image/png": "[encoded data removed]",
      "text/plain": [
       "<Figure size 720x360 with 2 Axes>"
      ]
     },
     "metadata": {
      "needs_background": "light"
     },
     "output_type": "display_data"
    }
   ],
   "source": [
    "# visualize count of gender whether has authority to make calls or not\n",
    "plt.figure(figsize=(10, 3))\n",
    "sns.catplot(x='Calls', col='Gender', kind='count', data=df,palette=\"husl\");\n",
    "plt.show()"
   ]
  },
  {
   "cell_type": "code",
   "execution_count": 18,
   "id": "bb05b6a6",
   "metadata": {},
   "outputs": [
    {
     "data": {
      "text/plain": [
       "<Figure size 720x216 with 0 Axes>"
      ]
     },
     "metadata": {},
     "output_type": "display_data"
    },
    {
     "data": {
      "image/png": "[encoded data removed]",
      "text/plain": [
       "<Figure size 720x360 with 2 Axes>"
      ]
     },
     "metadata": {
      "needs_background": "light"
     },
     "output_type": "display_data"
    }
   ],
   "source": [
    "# visualize count of gender to know number of the people dependant on the employee\n",
    "plt.figure(figsize=(10, 3))\n",
    "sns.catplot(x='Dependancies', col='Gender', kind='count', data=df,palette=\"husl\");\n",
    "plt.show()"
   ]
  },
  {
   "cell_type": "code",
   "execution_count": 19,
   "id": "12aa6cfc",
   "metadata": {},
   "outputs": [
    {
     "data": {
      "text/plain": [
       "<Figure size 720x216 with 0 Axes>"
      ]
     },
     "metadata": {},
     "output_type": "display_data"
    },
    {
     "data": {
      "image/png": "[encoded data removed]",
      "text/plain": [
       "<Figure size 720x360 with 2 Axes>"
      ]
     },
     "metadata": {
      "needs_background": "light"
     },
     "output_type": "display_data"
    }
   ],
   "source": [
    "# visualize count of gender to know the employee salary settlement type\n",
    "plt.figure(figsize=(10, 3))\n",
    "sns.catplot(x='Type', col='Gender', kind='count', data=df,palette=\"husl\");\n",
    "plt.show()"
   ]
  },
  {
   "cell_type": "code",
   "execution_count": 20,
   "id": "3d309771",
   "metadata": {},
   "outputs": [
    {
     "data": {
      "text/plain": [
       "<Figure size 720x216 with 0 Axes>"
      ]
     },
     "metadata": {},
     "output_type": "display_data"
    },
    {
     "data": {
      "image/png": "[encoded data removed]",
      "text/plain": [
       "<Figure size 720x360 with 2 Axes>"
      ]
     },
     "metadata": {
      "needs_background": "light"
     },
     "output_type": "display_data"
    }
   ],
   "source": [
    "# visualize count of gender to know Educational back ground of an employee\n",
    "plt.figure(figsize=(10, 3))\n",
    "sns.catplot(x='Education', col='Gender', kind='count', data=df,palette=\"husl\");\n",
    "plt.show()"
   ]
  },
  {
   "cell_type": "code",
   "execution_count": 38,
   "id": "37a1ec0d",
   "metadata": {},
   "outputs": [
    {
     "data": {
      "text/plain": [
       "<Figure size 720x216 with 0 Axes>"
      ]
     },
     "metadata": {},
     "output_type": "display_data"
    },
    {
     "data": {
      "image/png": "[encoded data removed]",
      "text/plain": [
       "<Figure size 720x360 with 2 Axes>"
      ]
     },
     "metadata": {
      "needs_background": "light"
     },
     "output_type": "display_data"
    }
   ],
   "source": [
    "# visualize count of gender to know whether Rating has been given by a superior or no\n",
    "plt.figure(figsize=(10, 3))\n",
    "sns.catplot(x='Rating', col='Gender', kind='count', data=df,palette=\"husl\");\n",
    "plt.show()"
   ]
  },
  {
   "cell_type": "code",
   "execution_count": 21,
   "id": "2048a803",
   "metadata": {},
   "outputs": [
    {
     "data": {
      "text/plain": [
       "<AxesSubplot:xlabel='Rating', ylabel='Salary'>"
      ]
     },
     "execution_count": 21,
     "metadata": {},
     "output_type": "execute_result"
    },
    {
     "data": {
      "image/png": "[encoded data removed]",
      "text/plain": [
       "<Figure size 864x504 with 1 Axes>"
      ]
     },
     "metadata": {
      "needs_background": "light"
     },
     "output_type": "display_data"
    }
   ],
   "source": [
    "# box plot to check outliers for Rating based on target variable\n",
    "plt.subplots(figsize=(12,7))\n",
    "sns.boxplot(x='Rating',y='Salary', data=df, palette = 'winter')"
   ]
  },
  {
   "cell_type": "code",
   "execution_count": 22,
   "id": "eecdf670",
   "metadata": {},
   "outputs": [
    {
     "data": {
      "text/plain": [
       "<AxesSubplot:xlabel='Billing', ylabel='Salary'>"
      ]
     },
     "execution_count": 22,
     "metadata": {},
     "output_type": "execute_result"
    },
    {
     "data": {
      "image/png": "[encoded data removed]",
      "text/plain": [
       "<Figure size 864x504 with 1 Axes>"
      ]
     },
     "metadata": {
      "needs_background": "light"
     },
     "output_type": "display_data"
    }
   ],
   "source": [
    "# box plot to check outliers for Billing based on target variable\n",
    "plt.subplots(figsize=(12,7))\n",
    "sns.boxplot(x='Billing',y='Salary', data=df, palette = 'winter')"
   ]
  },
  {
   "cell_type": "code",
   "execution_count": 23,
   "id": "6f275947",
   "metadata": {},
   "outputs": [
    {
     "data": {
      "text/plain": [
       "<AxesSubplot:xlabel='Business', ylabel='Salary'>"
      ]
     },
     "execution_count": 23,
     "metadata": {},
     "output_type": "execute_result"
    },
    {
     "data": {
      "image/png": "[encoded data removed]",
      "text/plain": [
       "<Figure size 864x504 with 1 Axes>"
      ]
     },
     "metadata": {
      "needs_background": "light"
     },
     "output_type": "display_data"
    }
   ],
   "source": [
    "# box plot to check outliers for Business based on target variable\n",
    "plt.subplots(figsize=(12,7))\n",
    "sns.boxplot(x='Business',y='Salary', data=df, palette = 'winter')"
   ]
  },
  {
   "cell_type": "code",
   "execution_count": 24,
   "id": "8d85d1f3",
   "metadata": {},
   "outputs": [
    {
     "data": {
      "text/plain": [
       "<AxesSubplot:xlabel='Dependancies', ylabel='Salary'>"
      ]
     },
     "execution_count": 24,
     "metadata": {},
     "output_type": "execute_result"
    },
    {
     "data": {
      "image/png": "[encoded data removed]",
      "text/plain": [
       "<Figure size 864x504 with 1 Axes>"
      ]
     },
     "metadata": {
      "needs_background": "light"
     },
     "output_type": "display_data"
    }
   ],
   "source": [
    "# box plot to check outliers for Dependancies based on target variable\n",
    "plt.subplots(figsize=(12,7))\n",
    "sns.boxplot(x='Dependancies',y='Salary', data=df, palette = 'winter')"
   ]
  },
  {
   "cell_type": "code",
   "execution_count": 25,
   "id": "4e5489f2",
   "metadata": {},
   "outputs": [
    {
     "data": {
      "text/plain": [
       "<AxesSubplot:xlabel='Calls', ylabel='Salary'>"
      ]
     },
     "execution_count": 25,
     "metadata": {},
     "output_type": "execute_result"
    },
    {
     "data": {
      "image/png": "[encoded data removed]",
      "text/plain": [
       "<Figure size 864x504 with 1 Axes>"
      ]
     },
     "metadata": {
      "needs_background": "light"
     },
     "output_type": "display_data"
    }
   ],
   "source": [
    "# box plot to check outliers for Calls based on target variable\n",
    "plt.subplots(figsize=(12,7))\n",
    "sns.boxplot(x='Calls',y='Salary', data=df, palette = 'winter')"
   ]
  },
  {
   "cell_type": "code",
   "execution_count": 26,
   "id": "62033c24",
   "metadata": {},
   "outputs": [
    {
     "data": {
      "text/plain": [
       "<AxesSubplot:xlabel='Type', ylabel='Salary'>"
      ]
     },
     "execution_count": 26,
     "metadata": {},
     "output_type": "execute_result"
    },
    {
     "data": {
      "image/png": "[encoded data removed]",
      "text/plain": [
       "<Figure size 864x504 with 1 Axes>"
      ]
     },
     "metadata": {
      "needs_background": "light"
     },
     "output_type": "display_data"
    }
   ],
   "source": [
    "# box plot to check outliers for Type based on target variable\n",
    "plt.subplots(figsize=(12,7))\n",
    "sns.boxplot(x='Type',y='Salary', data=df, palette = 'winter')"
   ]
  },
  {
   "cell_type": "code",
   "execution_count": 27,
   "id": "c55fa243",
   "metadata": {},
   "outputs": [
    {
     "data": {
      "text/plain": [
       "<AxesSubplot:xlabel='Education', ylabel='Salary'>"
      ]
     },
     "execution_count": 27,
     "metadata": {},
     "output_type": "execute_result"
    },
    {
     "data": {
      "image/png": "[encoded data removed]",
      "text/plain": [
       "<Figure size 864x504 with 1 Axes>"
      ]
     },
     "metadata": {
      "needs_background": "light"
     },
     "output_type": "display_data"
    }
   ],
   "source": [
    "# box plot to check outliers for Education based on target variable\n",
    "plt.subplots(figsize=(12,7))\n",
    "sns.boxplot(x='Education',y='Salary', data=df, palette = 'winter')"
   ]
  },
  {
   "cell_type": "markdown",
   "id": "5e389060",
   "metadata": {},
   "source": [
    "Handling categorical data for model creation\n",
    "\n",
    "Nominal data: data are not in any order - 'OneHotEncoder' is used in this case\n",
    "Ordinal data: data are in order - 'LabelEncoder' is used in this case"
   ]
  },
  {
   "cell_type": "code",
   "execution_count": 27,
   "id": "e2894158",
   "metadata": {},
   "outputs": [
    {
     "data": {
      "text/html": [
       "<div>\n",
       "<style scoped>\n",
       "    .dataframe tbody tr th:only-of-type {\n",
       "        vertical-align: middle;\n",
       "    }\n",
       "\n",
       "    .dataframe tbody tr th {\n",
       "        vertical-align: top;\n",
       "    }\n",
       "\n",
       "    .dataframe thead th {\n",
       "        text-align: right;\n",
       "    }\n",
       "</style>\n",
       "<table border=\"1\" class=\"dataframe\">\n",
       "  <thead>\n",
       "    <tr style=\"text-align: right;\">\n",
       "      <th></th>\n",
       "      <th>Gender_Male</th>\n",
       "    </tr>\n",
       "  </thead>\n",
       "  <tbody>\n",
       "    <tr>\n",
       "      <th>0</th>\n",
       "      <td>0</td>\n",
       "    </tr>\n",
       "    <tr>\n",
       "      <th>1</th>\n",
       "      <td>0</td>\n",
       "    </tr>\n",
       "    <tr>\n",
       "      <th>2</th>\n",
       "      <td>1</td>\n",
       "    </tr>\n",
       "    <tr>\n",
       "      <th>3</th>\n",
       "      <td>0</td>\n",
       "    </tr>\n",
       "    <tr>\n",
       "      <th>4</th>\n",
       "      <td>1</td>\n",
       "    </tr>\n",
       "  </tbody>\n",
       "</table>\n",
       "</div>"
      ],
      "text/plain": [
       "   Gender_Male\n",
       "0            0\n",
       "1            0\n",
       "2            1\n",
       "3            0\n",
       "4            1"
      ]
     },
     "execution_count": 27,
     "metadata": {},
     "output_type": "execute_result"
    }
   ],
   "source": [
    "# Gender is Nominal Categorical data so apply OneHotEncoding\n",
    "Gender = df[['Gender']]\n",
    "Gender = pd.get_dummies(Gender, drop_first = True)\n",
    "Gender.head()"
   ]
  },
  {
   "cell_type": "code",
   "execution_count": 28,
   "id": "7b588281",
   "metadata": {},
   "outputs": [
    {
     "data": {
      "text/html": [
       "<div>\n",
       "<style scoped>\n",
       "    .dataframe tbody tr th:only-of-type {\n",
       "        vertical-align: middle;\n",
       "    }\n",
       "\n",
       "    .dataframe tbody tr th {\n",
       "        vertical-align: top;\n",
       "    }\n",
       "\n",
       "    .dataframe thead th {\n",
       "        text-align: right;\n",
       "    }\n",
       "</style>\n",
       "<table border=\"1\" class=\"dataframe\">\n",
       "  <thead>\n",
       "    <tr style=\"text-align: right;\">\n",
       "      <th></th>\n",
       "      <th>Dependancies_Yes</th>\n",
       "    </tr>\n",
       "  </thead>\n",
       "  <tbody>\n",
       "    <tr>\n",
       "      <th>0</th>\n",
       "      <td>0</td>\n",
       "    </tr>\n",
       "    <tr>\n",
       "      <th>1</th>\n",
       "      <td>0</td>\n",
       "    </tr>\n",
       "    <tr>\n",
       "      <th>2</th>\n",
       "      <td>0</td>\n",
       "    </tr>\n",
       "    <tr>\n",
       "      <th>3</th>\n",
       "      <td>0</td>\n",
       "    </tr>\n",
       "    <tr>\n",
       "      <th>4</th>\n",
       "      <td>0</td>\n",
       "    </tr>\n",
       "  </tbody>\n",
       "</table>\n",
       "</div>"
      ],
      "text/plain": [
       "   Dependancies_Yes\n",
       "0                 0\n",
       "1                 0\n",
       "2                 0\n",
       "3                 0\n",
       "4                 0"
      ]
     },
     "execution_count": 28,
     "metadata": {},
     "output_type": "execute_result"
    }
   ],
   "source": [
    "# Dependancies is Nominal Categorical data so apply OneHotEncoding\n",
    "Dependancies = df[['Dependancies']]\n",
    "Dependancies = pd.get_dummies(Dependancies, drop_first = True)\n",
    "Dependancies.head()"
   ]
  },
  {
   "cell_type": "code",
   "execution_count": 29,
   "id": "23ef6735",
   "metadata": {},
   "outputs": [
    {
     "data": {
      "text/html": [
       "<div>\n",
       "<style scoped>\n",
       "    .dataframe tbody tr th:only-of-type {\n",
       "        vertical-align: middle;\n",
       "    }\n",
       "\n",
       "    .dataframe tbody tr th {\n",
       "        vertical-align: top;\n",
       "    }\n",
       "\n",
       "    .dataframe thead th {\n",
       "        text-align: right;\n",
       "    }\n",
       "</style>\n",
       "<table border=\"1\" class=\"dataframe\">\n",
       "  <thead>\n",
       "    <tr style=\"text-align: right;\">\n",
       "      <th></th>\n",
       "      <th>Calls_Yes</th>\n",
       "    </tr>\n",
       "  </thead>\n",
       "  <tbody>\n",
       "    <tr>\n",
       "      <th>0</th>\n",
       "      <td>1</td>\n",
       "    </tr>\n",
       "    <tr>\n",
       "      <th>1</th>\n",
       "      <td>1</td>\n",
       "    </tr>\n",
       "    <tr>\n",
       "      <th>2</th>\n",
       "      <td>1</td>\n",
       "    </tr>\n",
       "    <tr>\n",
       "      <th>3</th>\n",
       "      <td>1</td>\n",
       "    </tr>\n",
       "    <tr>\n",
       "      <th>4</th>\n",
       "      <td>1</td>\n",
       "    </tr>\n",
       "  </tbody>\n",
       "</table>\n",
       "</div>"
      ],
      "text/plain": [
       "   Calls_Yes\n",
       "0          1\n",
       "1          1\n",
       "2          1\n",
       "3          1\n",
       "4          1"
      ]
     },
     "execution_count": 29,
     "metadata": {},
     "output_type": "execute_result"
    }
   ],
   "source": [
    "# Calls column is Nominal Categorical data so apply OneHotEncoding\n",
    "Calls = df[['Calls']]\n",
    "Calls = pd.get_dummies(Calls, drop_first = True)\n",
    "Calls.head()"
   ]
  },
  {
   "cell_type": "code",
   "execution_count": 30,
   "id": "40b83069",
   "metadata": {},
   "outputs": [
    {
     "data": {
      "text/html": [
       "<div>\n",
       "<style scoped>\n",
       "    .dataframe tbody tr th:only-of-type {\n",
       "        vertical-align: middle;\n",
       "    }\n",
       "\n",
       "    .dataframe tbody tr th {\n",
       "        vertical-align: top;\n",
       "    }\n",
       "\n",
       "    .dataframe thead th {\n",
       "        text-align: right;\n",
       "    }\n",
       "</style>\n",
       "<table border=\"1\" class=\"dataframe\">\n",
       "  <thead>\n",
       "    <tr style=\"text-align: right;\">\n",
       "      <th></th>\n",
       "      <th>Billing_Yes</th>\n",
       "    </tr>\n",
       "  </thead>\n",
       "  <tbody>\n",
       "    <tr>\n",
       "      <th>0</th>\n",
       "      <td>0</td>\n",
       "    </tr>\n",
       "    <tr>\n",
       "      <th>1</th>\n",
       "      <td>0</td>\n",
       "    </tr>\n",
       "    <tr>\n",
       "      <th>2</th>\n",
       "      <td>1</td>\n",
       "    </tr>\n",
       "    <tr>\n",
       "      <th>3</th>\n",
       "      <td>1</td>\n",
       "    </tr>\n",
       "    <tr>\n",
       "      <th>4</th>\n",
       "      <td>1</td>\n",
       "    </tr>\n",
       "  </tbody>\n",
       "</table>\n",
       "</div>"
      ],
      "text/plain": [
       "   Billing_Yes\n",
       "0            0\n",
       "1            0\n",
       "2            1\n",
       "3            1\n",
       "4            1"
      ]
     },
     "execution_count": 30,
     "metadata": {},
     "output_type": "execute_result"
    }
   ],
   "source": [
    "# Billing is Nominal Categorical data so apply OneHotEncoding\n",
    "Billing = df[['Billing']]\n",
    "Billing = pd.get_dummies(Billing, drop_first = True)\n",
    "Billing.head()"
   ]
  },
  {
   "cell_type": "code",
   "execution_count": 31,
   "id": "4cd6773c",
   "metadata": {},
   "outputs": [
    {
     "data": {
      "text/html": [
       "<div>\n",
       "<style scoped>\n",
       "    .dataframe tbody tr th:only-of-type {\n",
       "        vertical-align: middle;\n",
       "    }\n",
       "\n",
       "    .dataframe tbody tr th {\n",
       "        vertical-align: top;\n",
       "    }\n",
       "\n",
       "    .dataframe thead th {\n",
       "        text-align: right;\n",
       "    }\n",
       "</style>\n",
       "<table border=\"1\" class=\"dataframe\">\n",
       "  <thead>\n",
       "    <tr style=\"text-align: right;\">\n",
       "      <th></th>\n",
       "      <th>Rating_Yes</th>\n",
       "    </tr>\n",
       "  </thead>\n",
       "  <tbody>\n",
       "    <tr>\n",
       "      <th>0</th>\n",
       "      <td>1</td>\n",
       "    </tr>\n",
       "    <tr>\n",
       "      <th>1</th>\n",
       "      <td>1</td>\n",
       "    </tr>\n",
       "    <tr>\n",
       "      <th>2</th>\n",
       "      <td>0</td>\n",
       "    </tr>\n",
       "    <tr>\n",
       "      <th>3</th>\n",
       "      <td>1</td>\n",
       "    </tr>\n",
       "    <tr>\n",
       "      <th>4</th>\n",
       "      <td>1</td>\n",
       "    </tr>\n",
       "  </tbody>\n",
       "</table>\n",
       "</div>"
      ],
      "text/plain": [
       "   Rating_Yes\n",
       "0           1\n",
       "1           1\n",
       "2           0\n",
       "3           1\n",
       "4           1"
      ]
     },
     "execution_count": 31,
     "metadata": {},
     "output_type": "execute_result"
    }
   ],
   "source": [
    "# Rating is Nominal Categorical data so apply OneHotEncoding\n",
    "Rating = df[['Rating']]\n",
    "Rating = pd.get_dummies(Rating, drop_first = True)\n",
    "Rating.head()"
   ]
  },
  {
   "cell_type": "code",
   "execution_count": 32,
   "id": "57a7ee1c",
   "metadata": {},
   "outputs": [
    {
     "data": {
      "text/html": [
       "<div>\n",
       "<style scoped>\n",
       "    .dataframe tbody tr th:only-of-type {\n",
       "        vertical-align: middle;\n",
       "    }\n",
       "\n",
       "    .dataframe tbody tr th {\n",
       "        vertical-align: top;\n",
       "    }\n",
       "\n",
       "    .dataframe thead th {\n",
       "        text-align: right;\n",
       "    }\n",
       "</style>\n",
       "<table border=\"1\" class=\"dataframe\">\n",
       "  <thead>\n",
       "    <tr style=\"text-align: right;\">\n",
       "      <th></th>\n",
       "      <th>Gender</th>\n",
       "      <th>Business</th>\n",
       "      <th>Dependancies</th>\n",
       "      <th>Calls</th>\n",
       "      <th>Type</th>\n",
       "      <th>Billing</th>\n",
       "      <th>Rating</th>\n",
       "      <th>Age</th>\n",
       "      <th>Salary</th>\n",
       "      <th>Bonus</th>\n",
       "      <th>Unit_Price</th>\n",
       "      <th>Volume</th>\n",
       "      <th>closingbalance</th>\n",
       "      <th>low</th>\n",
       "      <th>Unit_Sales</th>\n",
       "      <th>Months</th>\n",
       "      <th>Education</th>\n",
       "      <th>openingbalance_median</th>\n",
       "      <th>Base_pay_median</th>\n",
       "      <th>Total_Sales_median</th>\n",
       "    </tr>\n",
       "  </thead>\n",
       "  <tbody>\n",
       "    <tr>\n",
       "      <th>0</th>\n",
       "      <td>Female</td>\n",
       "      <td>0</td>\n",
       "      <td>No</td>\n",
       "      <td>Yes</td>\n",
       "      <td>0</td>\n",
       "      <td>No</td>\n",
       "      <td>Yes</td>\n",
       "      <td>18</td>\n",
       "      <td>5089.00</td>\n",
       "      <td>254.4500</td>\n",
       "      <td>3.77</td>\n",
       "      <td>21226600</td>\n",
       "      <td>3.76</td>\n",
       "      <td>3.65</td>\n",
       "      <td>18.25</td>\n",
       "      <td>0</td>\n",
       "      <td>0</td>\n",
       "      <td>3.75</td>\n",
       "      <td>2035.600</td>\n",
       "      <td>18.80</td>\n",
       "    </tr>\n",
       "    <tr>\n",
       "      <th>1</th>\n",
       "      <td>Female</td>\n",
       "      <td>0</td>\n",
       "      <td>No</td>\n",
       "      <td>Yes</td>\n",
       "      <td>0</td>\n",
       "      <td>No</td>\n",
       "      <td>Yes</td>\n",
       "      <td>19</td>\n",
       "      <td>5698.12</td>\n",
       "      <td>284.9060</td>\n",
       "      <td>3.74</td>\n",
       "      <td>10462800</td>\n",
       "      <td>3.68</td>\n",
       "      <td>3.65</td>\n",
       "      <td>18.40</td>\n",
       "      <td>0</td>\n",
       "      <td>0</td>\n",
       "      <td>3.85</td>\n",
       "      <td>2279.248</td>\n",
       "      <td>18.85</td>\n",
       "    </tr>\n",
       "    <tr>\n",
       "      <th>2</th>\n",
       "      <td>Male</td>\n",
       "      <td>0</td>\n",
       "      <td>No</td>\n",
       "      <td>Yes</td>\n",
       "      <td>0</td>\n",
       "      <td>Yes</td>\n",
       "      <td>No</td>\n",
       "      <td>22</td>\n",
       "      <td>5896.65</td>\n",
       "      <td>294.8325</td>\n",
       "      <td>3.89</td>\n",
       "      <td>18761000</td>\n",
       "      <td>4.29</td>\n",
       "      <td>3.72</td>\n",
       "      <td>18.70</td>\n",
       "      <td>0</td>\n",
       "      <td>0</td>\n",
       "      <td>4.23</td>\n",
       "      <td>2358.660</td>\n",
       "      <td>18.90</td>\n",
       "    </tr>\n",
       "    <tr>\n",
       "      <th>3</th>\n",
       "      <td>Female</td>\n",
       "      <td>1</td>\n",
       "      <td>No</td>\n",
       "      <td>Yes</td>\n",
       "      <td>0</td>\n",
       "      <td>Yes</td>\n",
       "      <td>Yes</td>\n",
       "      <td>21</td>\n",
       "      <td>6125.12</td>\n",
       "      <td>306.2560</td>\n",
       "      <td>4.35</td>\n",
       "      <td>66130600</td>\n",
       "      <td>4.31</td>\n",
       "      <td>3.83</td>\n",
       "      <td>18.75</td>\n",
       "      <td>0</td>\n",
       "      <td>0</td>\n",
       "      <td>4.26</td>\n",
       "      <td>2450.048</td>\n",
       "      <td>19.00</td>\n",
       "    </tr>\n",
       "    <tr>\n",
       "      <th>4</th>\n",
       "      <td>Male</td>\n",
       "      <td>0</td>\n",
       "      <td>No</td>\n",
       "      <td>Yes</td>\n",
       "      <td>0</td>\n",
       "      <td>Yes</td>\n",
       "      <td>Yes</td>\n",
       "      <td>23</td>\n",
       "      <td>6245.00</td>\n",
       "      <td>312.2500</td>\n",
       "      <td>4.34</td>\n",
       "      <td>26868200</td>\n",
       "      <td>4.41</td>\n",
       "      <td>4.08</td>\n",
       "      <td>18.80</td>\n",
       "      <td>1</td>\n",
       "      <td>0</td>\n",
       "      <td>4.79</td>\n",
       "      <td>2498.000</td>\n",
       "      <td>19.05</td>\n",
       "    </tr>\n",
       "  </tbody>\n",
       "</table>\n",
       "</div>"
      ],
      "text/plain": [
       "   Gender  Business Dependancies Calls  Type Billing Rating  Age   Salary  \\\n",
       "0  Female         0           No   Yes     0      No    Yes   18  5089.00   \n",
       "1  Female         0           No   Yes     0      No    Yes   19  5698.12   \n",
       "2    Male         0           No   Yes     0     Yes     No   22  5896.65   \n",
       "3  Female         1           No   Yes     0     Yes    Yes   21  6125.12   \n",
       "4    Male         0           No   Yes     0     Yes    Yes   23  6245.00   \n",
       "\n",
       "      Bonus  Unit_Price    Volume  closingbalance   low  Unit_Sales  Months  \\\n",
       "0  254.4500        3.77  21226600            3.76  3.65       18.25       0   \n",
       "1  284.9060        3.74  10462800            3.68  3.65       18.40       0   \n",
       "2  294.8325        3.89  18761000            4.29  3.72       18.70       0   \n",
       "3  306.2560        4.35  66130600            4.31  3.83       18.75       0   \n",
       "4  312.2500        4.34  26868200            4.41  4.08       18.80       1   \n",
       "\n",
       "   Education  openingbalance_median  Base_pay_median  Total_Sales_median  \n",
       "0          0                   3.75         2035.600               18.80  \n",
       "1          0                   3.85         2279.248               18.85  \n",
       "2          0                   4.23         2358.660               18.90  \n",
       "3          0                   4.26         2450.048               19.00  \n",
       "4          0                   4.79         2498.000               19.05  "
      ]
     },
     "execution_count": 32,
     "metadata": {},
     "output_type": "execute_result"
    }
   ],
   "source": [
    "# As these columns Type and Education are Oridnal categorical type so apply LabelEncoder\n",
    "df = df.replace({'Month-to-month':0, 'One year':1, 'Two year':2})\n",
    "df = df.replace({'High School or less':0, 'Intermediate':1, 'Graduation':2, 'PG':3})\n",
    "# load the data set head columns\n",
    "df.head()"
   ]
  },
  {
   "cell_type": "code",
   "execution_count": 33,
   "id": "88b42a40",
   "metadata": {},
   "outputs": [],
   "source": [
    "# Concatenate dataframe - df and Gender, Dependancies, Calls, Billing, Rating columns\n",
    "df_train = pd.concat([df, Gender, Dependancies, Calls, Billing, Rating], axis = 1)"
   ]
  },
  {
   "cell_type": "code",
   "execution_count": 34,
   "id": "8aca34bf",
   "metadata": {},
   "outputs": [
    {
     "data": {
      "text/html": [
       "<div>\n",
       "<style scoped>\n",
       "    .dataframe tbody tr th:only-of-type {\n",
       "        vertical-align: middle;\n",
       "    }\n",
       "\n",
       "    .dataframe tbody tr th {\n",
       "        vertical-align: top;\n",
       "    }\n",
       "\n",
       "    .dataframe thead th {\n",
       "        text-align: right;\n",
       "    }\n",
       "</style>\n",
       "<table border=\"1\" class=\"dataframe\">\n",
       "  <thead>\n",
       "    <tr style=\"text-align: right;\">\n",
       "      <th></th>\n",
       "      <th>Gender</th>\n",
       "      <th>Business</th>\n",
       "      <th>Dependancies</th>\n",
       "      <th>Calls</th>\n",
       "      <th>Type</th>\n",
       "      <th>Billing</th>\n",
       "      <th>Rating</th>\n",
       "      <th>Age</th>\n",
       "      <th>Salary</th>\n",
       "      <th>Bonus</th>\n",
       "      <th>...</th>\n",
       "      <th>Months</th>\n",
       "      <th>Education</th>\n",
       "      <th>openingbalance_median</th>\n",
       "      <th>Base_pay_median</th>\n",
       "      <th>Total_Sales_median</th>\n",
       "      <th>Gender_Male</th>\n",
       "      <th>Dependancies_Yes</th>\n",
       "      <th>Calls_Yes</th>\n",
       "      <th>Billing_Yes</th>\n",
       "      <th>Rating_Yes</th>\n",
       "    </tr>\n",
       "  </thead>\n",
       "  <tbody>\n",
       "    <tr>\n",
       "      <th>0</th>\n",
       "      <td>Female</td>\n",
       "      <td>0</td>\n",
       "      <td>No</td>\n",
       "      <td>Yes</td>\n",
       "      <td>0</td>\n",
       "      <td>No</td>\n",
       "      <td>Yes</td>\n",
       "      <td>18</td>\n",
       "      <td>5089.00</td>\n",
       "      <td>254.4500</td>\n",
       "      <td>...</td>\n",
       "      <td>0</td>\n",
       "      <td>0</td>\n",
       "      <td>3.75</td>\n",
       "      <td>2035.600</td>\n",
       "      <td>18.80</td>\n",
       "      <td>0</td>\n",
       "      <td>0</td>\n",
       "      <td>1</td>\n",
       "      <td>0</td>\n",
       "      <td>1</td>\n",
       "    </tr>\n",
       "    <tr>\n",
       "      <th>1</th>\n",
       "      <td>Female</td>\n",
       "      <td>0</td>\n",
       "      <td>No</td>\n",
       "      <td>Yes</td>\n",
       "      <td>0</td>\n",
       "      <td>No</td>\n",
       "      <td>Yes</td>\n",
       "      <td>19</td>\n",
       "      <td>5698.12</td>\n",
       "      <td>284.9060</td>\n",
       "      <td>...</td>\n",
       "      <td>0</td>\n",
       "      <td>0</td>\n",
       "      <td>3.85</td>\n",
       "      <td>2279.248</td>\n",
       "      <td>18.85</td>\n",
       "      <td>0</td>\n",
       "      <td>0</td>\n",
       "      <td>1</td>\n",
       "      <td>0</td>\n",
       "      <td>1</td>\n",
       "    </tr>\n",
       "    <tr>\n",
       "      <th>2</th>\n",
       "      <td>Male</td>\n",
       "      <td>0</td>\n",
       "      <td>No</td>\n",
       "      <td>Yes</td>\n",
       "      <td>0</td>\n",
       "      <td>Yes</td>\n",
       "      <td>No</td>\n",
       "      <td>22</td>\n",
       "      <td>5896.65</td>\n",
       "      <td>294.8325</td>\n",
       "      <td>...</td>\n",
       "      <td>0</td>\n",
       "      <td>0</td>\n",
       "      <td>4.23</td>\n",
       "      <td>2358.660</td>\n",
       "      <td>18.90</td>\n",
       "      <td>1</td>\n",
       "      <td>0</td>\n",
       "      <td>1</td>\n",
       "      <td>1</td>\n",
       "      <td>0</td>\n",
       "    </tr>\n",
       "    <tr>\n",
       "      <th>3</th>\n",
       "      <td>Female</td>\n",
       "      <td>1</td>\n",
       "      <td>No</td>\n",
       "      <td>Yes</td>\n",
       "      <td>0</td>\n",
       "      <td>Yes</td>\n",
       "      <td>Yes</td>\n",
       "      <td>21</td>\n",
       "      <td>6125.12</td>\n",
       "      <td>306.2560</td>\n",
       "      <td>...</td>\n",
       "      <td>0</td>\n",
       "      <td>0</td>\n",
       "      <td>4.26</td>\n",
       "      <td>2450.048</td>\n",
       "      <td>19.00</td>\n",
       "      <td>0</td>\n",
       "      <td>0</td>\n",
       "      <td>1</td>\n",
       "      <td>1</td>\n",
       "      <td>1</td>\n",
       "    </tr>\n",
       "    <tr>\n",
       "      <th>4</th>\n",
       "      <td>Male</td>\n",
       "      <td>0</td>\n",
       "      <td>No</td>\n",
       "      <td>Yes</td>\n",
       "      <td>0</td>\n",
       "      <td>Yes</td>\n",
       "      <td>Yes</td>\n",
       "      <td>23</td>\n",
       "      <td>6245.00</td>\n",
       "      <td>312.2500</td>\n",
       "      <td>...</td>\n",
       "      <td>1</td>\n",
       "      <td>0</td>\n",
       "      <td>4.79</td>\n",
       "      <td>2498.000</td>\n",
       "      <td>19.05</td>\n",
       "      <td>1</td>\n",
       "      <td>0</td>\n",
       "      <td>1</td>\n",
       "      <td>1</td>\n",
       "      <td>1</td>\n",
       "    </tr>\n",
       "  </tbody>\n",
       "</table>\n",
       "<p>5 rows × 25 columns</p>\n",
       "</div>"
      ],
      "text/plain": [
       "   Gender  Business Dependancies Calls  Type Billing Rating  Age   Salary  \\\n",
       "0  Female         0           No   Yes     0      No    Yes   18  5089.00   \n",
       "1  Female         0           No   Yes     0      No    Yes   19  5698.12   \n",
       "2    Male         0           No   Yes     0     Yes     No   22  5896.65   \n",
       "3  Female         1           No   Yes     0     Yes    Yes   21  6125.12   \n",
       "4    Male         0           No   Yes     0     Yes    Yes   23  6245.00   \n",
       "\n",
       "      Bonus  ...  Months  Education  openingbalance_median  Base_pay_median  \\\n",
       "0  254.4500  ...       0          0                   3.75         2035.600   \n",
       "1  284.9060  ...       0          0                   3.85         2279.248   \n",
       "2  294.8325  ...       0          0                   4.23         2358.660   \n",
       "3  306.2560  ...       0          0                   4.26         2450.048   \n",
       "4  312.2500  ...       1          0                   4.79         2498.000   \n",
       "\n",
       "   Total_Sales_median  Gender_Male  Dependancies_Yes  Calls_Yes  Billing_Yes  \\\n",
       "0               18.80            0                 0          1            0   \n",
       "1               18.85            0                 0          1            0   \n",
       "2               18.90            1                 0          1            1   \n",
       "3               19.00            0                 0          1            1   \n",
       "4               19.05            1                 0          1            1   \n",
       "\n",
       "   Rating_Yes  \n",
       "0           1  \n",
       "1           1  \n",
       "2           0  \n",
       "3           1  \n",
       "4           1  \n",
       "\n",
       "[5 rows x 25 columns]"
      ]
     },
     "execution_count": 34,
     "metadata": {},
     "output_type": "execute_result"
    }
   ],
   "source": [
    "# check the data set head columns\n",
    "df_train.head()"
   ]
  },
  {
   "cell_type": "code",
   "execution_count": 35,
   "id": "eeff1fda",
   "metadata": {},
   "outputs": [],
   "source": [
    "# dropping columns from the data set\n",
    "df_train.drop(['Gender','Dependancies','Calls', 'Billing','Rating'], axis=1, inplace=True)"
   ]
  },
  {
   "cell_type": "code",
   "execution_count": 36,
   "id": "a7f79764",
   "metadata": {},
   "outputs": [
    {
     "data": {
      "text/html": [
       "<div>\n",
       "<style scoped>\n",
       "    .dataframe tbody tr th:only-of-type {\n",
       "        vertical-align: middle;\n",
       "    }\n",
       "\n",
       "    .dataframe tbody tr th {\n",
       "        vertical-align: top;\n",
       "    }\n",
       "\n",
       "    .dataframe thead th {\n",
       "        text-align: right;\n",
       "    }\n",
       "</style>\n",
       "<table border=\"1\" class=\"dataframe\">\n",
       "  <thead>\n",
       "    <tr style=\"text-align: right;\">\n",
       "      <th></th>\n",
       "      <th>Business</th>\n",
       "      <th>Type</th>\n",
       "      <th>Age</th>\n",
       "      <th>Salary</th>\n",
       "      <th>Bonus</th>\n",
       "      <th>Unit_Price</th>\n",
       "      <th>Volume</th>\n",
       "      <th>closingbalance</th>\n",
       "      <th>low</th>\n",
       "      <th>Unit_Sales</th>\n",
       "      <th>Months</th>\n",
       "      <th>Education</th>\n",
       "      <th>openingbalance_median</th>\n",
       "      <th>Base_pay_median</th>\n",
       "      <th>Total_Sales_median</th>\n",
       "      <th>Gender_Male</th>\n",
       "      <th>Dependancies_Yes</th>\n",
       "      <th>Calls_Yes</th>\n",
       "      <th>Billing_Yes</th>\n",
       "      <th>Rating_Yes</th>\n",
       "    </tr>\n",
       "  </thead>\n",
       "  <tbody>\n",
       "    <tr>\n",
       "      <th>0</th>\n",
       "      <td>0</td>\n",
       "      <td>0</td>\n",
       "      <td>18</td>\n",
       "      <td>5089.00</td>\n",
       "      <td>254.4500</td>\n",
       "      <td>3.77</td>\n",
       "      <td>21226600</td>\n",
       "      <td>3.76</td>\n",
       "      <td>3.65</td>\n",
       "      <td>18.25</td>\n",
       "      <td>0</td>\n",
       "      <td>0</td>\n",
       "      <td>3.75</td>\n",
       "      <td>2035.600</td>\n",
       "      <td>18.80</td>\n",
       "      <td>0</td>\n",
       "      <td>0</td>\n",
       "      <td>1</td>\n",
       "      <td>0</td>\n",
       "      <td>1</td>\n",
       "    </tr>\n",
       "    <tr>\n",
       "      <th>1</th>\n",
       "      <td>0</td>\n",
       "      <td>0</td>\n",
       "      <td>19</td>\n",
       "      <td>5698.12</td>\n",
       "      <td>284.9060</td>\n",
       "      <td>3.74</td>\n",
       "      <td>10462800</td>\n",
       "      <td>3.68</td>\n",
       "      <td>3.65</td>\n",
       "      <td>18.40</td>\n",
       "      <td>0</td>\n",
       "      <td>0</td>\n",
       "      <td>3.85</td>\n",
       "      <td>2279.248</td>\n",
       "      <td>18.85</td>\n",
       "      <td>0</td>\n",
       "      <td>0</td>\n",
       "      <td>1</td>\n",
       "      <td>0</td>\n",
       "      <td>1</td>\n",
       "    </tr>\n",
       "    <tr>\n",
       "      <th>2</th>\n",
       "      <td>0</td>\n",
       "      <td>0</td>\n",
       "      <td>22</td>\n",
       "      <td>5896.65</td>\n",
       "      <td>294.8325</td>\n",
       "      <td>3.89</td>\n",
       "      <td>18761000</td>\n",
       "      <td>4.29</td>\n",
       "      <td>3.72</td>\n",
       "      <td>18.70</td>\n",
       "      <td>0</td>\n",
       "      <td>0</td>\n",
       "      <td>4.23</td>\n",
       "      <td>2358.660</td>\n",
       "      <td>18.90</td>\n",
       "      <td>1</td>\n",
       "      <td>0</td>\n",
       "      <td>1</td>\n",
       "      <td>1</td>\n",
       "      <td>0</td>\n",
       "    </tr>\n",
       "    <tr>\n",
       "      <th>3</th>\n",
       "      <td>1</td>\n",
       "      <td>0</td>\n",
       "      <td>21</td>\n",
       "      <td>6125.12</td>\n",
       "      <td>306.2560</td>\n",
       "      <td>4.35</td>\n",
       "      <td>66130600</td>\n",
       "      <td>4.31</td>\n",
       "      <td>3.83</td>\n",
       "      <td>18.75</td>\n",
       "      <td>0</td>\n",
       "      <td>0</td>\n",
       "      <td>4.26</td>\n",
       "      <td>2450.048</td>\n",
       "      <td>19.00</td>\n",
       "      <td>0</td>\n",
       "      <td>0</td>\n",
       "      <td>1</td>\n",
       "      <td>1</td>\n",
       "      <td>1</td>\n",
       "    </tr>\n",
       "    <tr>\n",
       "      <th>4</th>\n",
       "      <td>0</td>\n",
       "      <td>0</td>\n",
       "      <td>23</td>\n",
       "      <td>6245.00</td>\n",
       "      <td>312.2500</td>\n",
       "      <td>4.34</td>\n",
       "      <td>26868200</td>\n",
       "      <td>4.41</td>\n",
       "      <td>4.08</td>\n",
       "      <td>18.80</td>\n",
       "      <td>1</td>\n",
       "      <td>0</td>\n",
       "      <td>4.79</td>\n",
       "      <td>2498.000</td>\n",
       "      <td>19.05</td>\n",
       "      <td>1</td>\n",
       "      <td>0</td>\n",
       "      <td>1</td>\n",
       "      <td>1</td>\n",
       "      <td>1</td>\n",
       "    </tr>\n",
       "  </tbody>\n",
       "</table>\n",
       "</div>"
      ],
      "text/plain": [
       "   Business  Type  Age   Salary     Bonus  Unit_Price    Volume  \\\n",
       "0         0     0   18  5089.00  254.4500        3.77  21226600   \n",
       "1         0     0   19  5698.12  284.9060        3.74  10462800   \n",
       "2         0     0   22  5896.65  294.8325        3.89  18761000   \n",
       "3         1     0   21  6125.12  306.2560        4.35  66130600   \n",
       "4         0     0   23  6245.00  312.2500        4.34  26868200   \n",
       "\n",
       "   closingbalance   low  Unit_Sales  Months  Education  openingbalance_median  \\\n",
       "0            3.76  3.65       18.25       0          0                   3.75   \n",
       "1            3.68  3.65       18.40       0          0                   3.85   \n",
       "2            4.29  3.72       18.70       0          0                   4.23   \n",
       "3            4.31  3.83       18.75       0          0                   4.26   \n",
       "4            4.41  4.08       18.80       1          0                   4.79   \n",
       "\n",
       "   Base_pay_median  Total_Sales_median  Gender_Male  Dependancies_Yes  \\\n",
       "0         2035.600               18.80            0                 0   \n",
       "1         2279.248               18.85            0                 0   \n",
       "2         2358.660               18.90            1                 0   \n",
       "3         2450.048               19.00            0                 0   \n",
       "4         2498.000               19.05            1                 0   \n",
       "\n",
       "   Calls_Yes  Billing_Yes  Rating_Yes  \n",
       "0          1            0           1  \n",
       "1          1            0           1  \n",
       "2          1            1           0  \n",
       "3          1            1           1  \n",
       "4          1            1           1  "
      ]
     },
     "execution_count": 36,
     "metadata": {},
     "output_type": "execute_result"
    }
   ],
   "source": [
    "# load the data set head columns\n",
    "df_train.head()"
   ]
  },
  {
   "cell_type": "markdown",
   "id": "dbcf84eb",
   "metadata": {},
   "source": [
    "# Feature Selection"
   ]
  },
  {
   "cell_type": "markdown",
   "id": "2602ce0b",
   "metadata": {},
   "source": [
    "Finding out the best feature which will contribute and have good relation with target variable. \n",
    "Following are some of the feature selection methods,\n",
    "\n",
    "Heatmap\n",
    "\n",
    "Feature importance"
   ]
  },
  {
   "cell_type": "code",
   "execution_count": 37,
   "id": "99579b15",
   "metadata": {},
   "outputs": [
    {
     "data": {
      "text/plain": [
       "(5000, 20)"
      ]
     },
     "execution_count": 37,
     "metadata": {},
     "output_type": "execute_result"
    }
   ],
   "source": [
    "# check the number of rows and columns of the data set\n",
    "df_train.shape"
   ]
  },
  {
   "cell_type": "code",
   "execution_count": 38,
   "id": "88771256",
   "metadata": {},
   "outputs": [
    {
     "data": {
      "text/plain": [
       "Index(['Business', 'Type', 'Age', 'Salary', 'Bonus', 'Unit_Price', 'Volume',\n",
       "       'closingbalance', 'low', 'Unit_Sales', 'Months', 'Education',\n",
       "       'openingbalance_median', 'Base_pay_median', 'Total_Sales_median',\n",
       "       'Gender_Male', 'Dependancies_Yes', 'Calls_Yes', 'Billing_Yes',\n",
       "       'Rating_Yes'],\n",
       "      dtype='object')"
      ]
     },
     "execution_count": 38,
     "metadata": {},
     "output_type": "execute_result"
    }
   ],
   "source": [
    "# get the data set columns\n",
    "df_train.columns"
   ]
  },
  {
   "cell_type": "code",
   "execution_count": 39,
   "id": "dd40788b",
   "metadata": {},
   "outputs": [
    {
     "data": {
      "text/html": [
       "<div>\n",
       "<style scoped>\n",
       "    .dataframe tbody tr th:only-of-type {\n",
       "        vertical-align: middle;\n",
       "    }\n",
       "\n",
       "    .dataframe tbody tr th {\n",
       "        vertical-align: top;\n",
       "    }\n",
       "\n",
       "    .dataframe thead th {\n",
       "        text-align: right;\n",
       "    }\n",
       "</style>\n",
       "<table border=\"1\" class=\"dataframe\">\n",
       "  <thead>\n",
       "    <tr style=\"text-align: right;\">\n",
       "      <th></th>\n",
       "      <th>Business</th>\n",
       "      <th>Type</th>\n",
       "      <th>Age</th>\n",
       "      <th>Bonus</th>\n",
       "      <th>Unit_Price</th>\n",
       "      <th>closingbalance</th>\n",
       "      <th>low</th>\n",
       "      <th>Unit_Sales</th>\n",
       "      <th>Months</th>\n",
       "      <th>Education</th>\n",
       "      <th>openingbalance_median</th>\n",
       "      <th>Base_pay_median</th>\n",
       "      <th>Total_Sales_median</th>\n",
       "      <th>Gender_Male</th>\n",
       "      <th>Dependancies_Yes</th>\n",
       "      <th>Calls_Yes</th>\n",
       "      <th>Billing_Yes</th>\n",
       "      <th>Rating_Yes</th>\n",
       "    </tr>\n",
       "  </thead>\n",
       "  <tbody>\n",
       "    <tr>\n",
       "      <th>0</th>\n",
       "      <td>0</td>\n",
       "      <td>0</td>\n",
       "      <td>18</td>\n",
       "      <td>254.4500</td>\n",
       "      <td>3.77</td>\n",
       "      <td>3.76</td>\n",
       "      <td>3.65</td>\n",
       "      <td>18.25</td>\n",
       "      <td>0</td>\n",
       "      <td>0</td>\n",
       "      <td>3.75</td>\n",
       "      <td>2035.600</td>\n",
       "      <td>18.80</td>\n",
       "      <td>0</td>\n",
       "      <td>0</td>\n",
       "      <td>1</td>\n",
       "      <td>0</td>\n",
       "      <td>1</td>\n",
       "    </tr>\n",
       "    <tr>\n",
       "      <th>1</th>\n",
       "      <td>0</td>\n",
       "      <td>0</td>\n",
       "      <td>19</td>\n",
       "      <td>284.9060</td>\n",
       "      <td>3.74</td>\n",
       "      <td>3.68</td>\n",
       "      <td>3.65</td>\n",
       "      <td>18.40</td>\n",
       "      <td>0</td>\n",
       "      <td>0</td>\n",
       "      <td>3.85</td>\n",
       "      <td>2279.248</td>\n",
       "      <td>18.85</td>\n",
       "      <td>0</td>\n",
       "      <td>0</td>\n",
       "      <td>1</td>\n",
       "      <td>0</td>\n",
       "      <td>1</td>\n",
       "    </tr>\n",
       "    <tr>\n",
       "      <th>2</th>\n",
       "      <td>0</td>\n",
       "      <td>0</td>\n",
       "      <td>22</td>\n",
       "      <td>294.8325</td>\n",
       "      <td>3.89</td>\n",
       "      <td>4.29</td>\n",
       "      <td>3.72</td>\n",
       "      <td>18.70</td>\n",
       "      <td>0</td>\n",
       "      <td>0</td>\n",
       "      <td>4.23</td>\n",
       "      <td>2358.660</td>\n",
       "      <td>18.90</td>\n",
       "      <td>1</td>\n",
       "      <td>0</td>\n",
       "      <td>1</td>\n",
       "      <td>1</td>\n",
       "      <td>0</td>\n",
       "    </tr>\n",
       "    <tr>\n",
       "      <th>3</th>\n",
       "      <td>1</td>\n",
       "      <td>0</td>\n",
       "      <td>21</td>\n",
       "      <td>306.2560</td>\n",
       "      <td>4.35</td>\n",
       "      <td>4.31</td>\n",
       "      <td>3.83</td>\n",
       "      <td>18.75</td>\n",
       "      <td>0</td>\n",
       "      <td>0</td>\n",
       "      <td>4.26</td>\n",
       "      <td>2450.048</td>\n",
       "      <td>19.00</td>\n",
       "      <td>0</td>\n",
       "      <td>0</td>\n",
       "      <td>1</td>\n",
       "      <td>1</td>\n",
       "      <td>1</td>\n",
       "    </tr>\n",
       "    <tr>\n",
       "      <th>4</th>\n",
       "      <td>0</td>\n",
       "      <td>0</td>\n",
       "      <td>23</td>\n",
       "      <td>312.2500</td>\n",
       "      <td>4.34</td>\n",
       "      <td>4.41</td>\n",
       "      <td>4.08</td>\n",
       "      <td>18.80</td>\n",
       "      <td>1</td>\n",
       "      <td>0</td>\n",
       "      <td>4.79</td>\n",
       "      <td>2498.000</td>\n",
       "      <td>19.05</td>\n",
       "      <td>1</td>\n",
       "      <td>0</td>\n",
       "      <td>1</td>\n",
       "      <td>1</td>\n",
       "      <td>1</td>\n",
       "    </tr>\n",
       "  </tbody>\n",
       "</table>\n",
       "</div>"
      ],
      "text/plain": [
       "   Business  Type  Age     Bonus  Unit_Price  closingbalance   low  \\\n",
       "0         0     0   18  254.4500        3.77            3.76  3.65   \n",
       "1         0     0   19  284.9060        3.74            3.68  3.65   \n",
       "2         0     0   22  294.8325        3.89            4.29  3.72   \n",
       "3         1     0   21  306.2560        4.35            4.31  3.83   \n",
       "4         0     0   23  312.2500        4.34            4.41  4.08   \n",
       "\n",
       "   Unit_Sales  Months  Education  openingbalance_median  Base_pay_median  \\\n",
       "0       18.25       0          0                   3.75         2035.600   \n",
       "1       18.40       0          0                   3.85         2279.248   \n",
       "2       18.70       0          0                   4.23         2358.660   \n",
       "3       18.75       0          0                   4.26         2450.048   \n",
       "4       18.80       1          0                   4.79         2498.000   \n",
       "\n",
       "   Total_Sales_median  Gender_Male  Dependancies_Yes  Calls_Yes  Billing_Yes  \\\n",
       "0               18.80            0                 0          1            0   \n",
       "1               18.85            0                 0          1            0   \n",
       "2               18.90            1                 0          1            1   \n",
       "3               19.00            0                 0          1            1   \n",
       "4               19.05            1                 0          1            1   \n",
       "\n",
       "   Rating_Yes  \n",
       "0           1  \n",
       "1           1  \n",
       "2           0  \n",
       "3           1  \n",
       "4           1  "
      ]
     },
     "execution_count": 39,
     "metadata": {},
     "output_type": "execute_result"
    }
   ],
   "source": [
    "X = df_train.loc[:, ['Business', 'Type', 'Age', 'Bonus', 'Unit_Price',\n",
    "       'closingbalance', 'low', 'Unit_Sales', 'Months', 'Education',\n",
    "       'openingbalance_median', 'Base_pay_median', 'Total_Sales_median',\n",
    "       'Gender_Male', 'Dependancies_Yes', 'Calls_Yes', 'Billing_Yes',\n",
    "       'Rating_Yes']]\n",
    "X.head()"
   ]
  },
  {
   "cell_type": "code",
   "execution_count": 41,
   "id": "22664f62",
   "metadata": {},
   "outputs": [
    {
     "data": {
      "text/plain": [
       "0    5089.00\n",
       "1    5698.12\n",
       "2    5896.65\n",
       "3    6125.12\n",
       "4    6245.00\n",
       "Name: Salary, dtype: float64"
      ]
     },
     "execution_count": 41,
     "metadata": {},
     "output_type": "execute_result"
    }
   ],
   "source": [
    "y = df_train.iloc[:, 3]\n",
    "y.head()"
   ]
  },
  {
   "cell_type": "code",
   "execution_count": 42,
   "id": "623011a3",
   "metadata": {},
   "outputs": [
    {
     "data": {
      "text/html": [
       "<div>\n",
       "<style scoped>\n",
       "    .dataframe tbody tr th:only-of-type {\n",
       "        vertical-align: middle;\n",
       "    }\n",
       "\n",
       "    .dataframe tbody tr th {\n",
       "        vertical-align: top;\n",
       "    }\n",
       "\n",
       "    .dataframe thead th {\n",
       "        text-align: right;\n",
       "    }\n",
       "</style>\n",
       "<table border=\"1\" class=\"dataframe\">\n",
       "  <thead>\n",
       "    <tr style=\"text-align: right;\">\n",
       "      <th></th>\n",
       "      <th>Business</th>\n",
       "      <th>Type</th>\n",
       "      <th>Age</th>\n",
       "      <th>Salary</th>\n",
       "      <th>Bonus</th>\n",
       "      <th>Unit_Price</th>\n",
       "      <th>Volume</th>\n",
       "      <th>closingbalance</th>\n",
       "      <th>low</th>\n",
       "      <th>Unit_Sales</th>\n",
       "      <th>Months</th>\n",
       "      <th>Education</th>\n",
       "      <th>openingbalance_median</th>\n",
       "      <th>Base_pay_median</th>\n",
       "      <th>Total_Sales_median</th>\n",
       "    </tr>\n",
       "  </thead>\n",
       "  <tbody>\n",
       "    <tr>\n",
       "      <th>Business</th>\n",
       "      <td>1.000000</td>\n",
       "      <td>-0.143306</td>\n",
       "      <td>-0.005736</td>\n",
       "      <td>-0.008333</td>\n",
       "      <td>-0.008333</td>\n",
       "      <td>0.002512</td>\n",
       "      <td>0.018296</td>\n",
       "      <td>0.005888</td>\n",
       "      <td>0.000226</td>\n",
       "      <td>-0.018623</td>\n",
       "      <td>-0.011645</td>\n",
       "      <td>-0.014520</td>\n",
       "      <td>-0.023798</td>\n",
       "      <td>-0.007844</td>\n",
       "      <td>-0.018338</td>\n",
       "    </tr>\n",
       "    <tr>\n",
       "      <th>Type</th>\n",
       "      <td>-0.143306</td>\n",
       "      <td>1.000000</td>\n",
       "      <td>0.000853</td>\n",
       "      <td>0.009414</td>\n",
       "      <td>0.009414</td>\n",
       "      <td>0.007779</td>\n",
       "      <td>0.008719</td>\n",
       "      <td>-0.010694</td>\n",
       "      <td>0.005791</td>\n",
       "      <td>0.012784</td>\n",
       "      <td>0.001767</td>\n",
       "      <td>0.010226</td>\n",
       "      <td>0.019787</td>\n",
       "      <td>0.010249</td>\n",
       "      <td>0.011856</td>\n",
       "    </tr>\n",
       "    <tr>\n",
       "      <th>Age</th>\n",
       "      <td>-0.005736</td>\n",
       "      <td>0.000853</td>\n",
       "      <td>1.000000</td>\n",
       "      <td>0.288743</td>\n",
       "      <td>0.288743</td>\n",
       "      <td>0.191133</td>\n",
       "      <td>-0.036265</td>\n",
       "      <td>0.294936</td>\n",
       "      <td>0.253885</td>\n",
       "      <td>0.186905</td>\n",
       "      <td>0.129768</td>\n",
       "      <td>0.131279</td>\n",
       "      <td>0.092729</td>\n",
       "      <td>0.291721</td>\n",
       "      <td>0.143351</td>\n",
       "    </tr>\n",
       "    <tr>\n",
       "      <th>Salary</th>\n",
       "      <td>-0.008333</td>\n",
       "      <td>0.009414</td>\n",
       "      <td>0.288743</td>\n",
       "      <td>1.000000</td>\n",
       "      <td>1.000000</td>\n",
       "      <td>0.596259</td>\n",
       "      <td>-0.207246</td>\n",
       "      <td>0.316732</td>\n",
       "      <td>0.811943</td>\n",
       "      <td>0.940854</td>\n",
       "      <td>0.606865</td>\n",
       "      <td>0.375752</td>\n",
       "      <td>0.731291</td>\n",
       "      <td>0.992200</td>\n",
       "      <td>0.879311</td>\n",
       "    </tr>\n",
       "    <tr>\n",
       "      <th>Bonus</th>\n",
       "      <td>-0.008333</td>\n",
       "      <td>0.009414</td>\n",
       "      <td>0.288743</td>\n",
       "      <td>1.000000</td>\n",
       "      <td>1.000000</td>\n",
       "      <td>0.596259</td>\n",
       "      <td>-0.207246</td>\n",
       "      <td>0.316732</td>\n",
       "      <td>0.811943</td>\n",
       "      <td>0.940854</td>\n",
       "      <td>0.606865</td>\n",
       "      <td>0.375752</td>\n",
       "      <td>0.731291</td>\n",
       "      <td>0.992200</td>\n",
       "      <td>0.879311</td>\n",
       "    </tr>\n",
       "    <tr>\n",
       "      <th>Unit_Price</th>\n",
       "      <td>0.002512</td>\n",
       "      <td>0.007779</td>\n",
       "      <td>0.191133</td>\n",
       "      <td>0.596259</td>\n",
       "      <td>0.596259</td>\n",
       "      <td>1.000000</td>\n",
       "      <td>-0.045986</td>\n",
       "      <td>0.332721</td>\n",
       "      <td>0.832543</td>\n",
       "      <td>0.521937</td>\n",
       "      <td>0.445347</td>\n",
       "      <td>0.238875</td>\n",
       "      <td>0.491244</td>\n",
       "      <td>0.589497</td>\n",
       "      <td>0.598798</td>\n",
       "    </tr>\n",
       "    <tr>\n",
       "      <th>Volume</th>\n",
       "      <td>0.018296</td>\n",
       "      <td>0.008719</td>\n",
       "      <td>-0.036265</td>\n",
       "      <td>-0.207246</td>\n",
       "      <td>-0.207246</td>\n",
       "      <td>-0.045986</td>\n",
       "      <td>1.000000</td>\n",
       "      <td>-0.063188</td>\n",
       "      <td>-0.146219</td>\n",
       "      <td>-0.215776</td>\n",
       "      <td>-0.124170</td>\n",
       "      <td>-0.077910</td>\n",
       "      <td>-0.149340</td>\n",
       "      <td>-0.201964</td>\n",
       "      <td>-0.183335</td>\n",
       "    </tr>\n",
       "    <tr>\n",
       "      <th>closingbalance</th>\n",
       "      <td>0.005888</td>\n",
       "      <td>-0.010694</td>\n",
       "      <td>0.294936</td>\n",
       "      <td>0.316732</td>\n",
       "      <td>0.316732</td>\n",
       "      <td>0.332721</td>\n",
       "      <td>-0.063188</td>\n",
       "      <td>1.000000</td>\n",
       "      <td>0.382555</td>\n",
       "      <td>0.237685</td>\n",
       "      <td>0.293089</td>\n",
       "      <td>0.098670</td>\n",
       "      <td>0.012393</td>\n",
       "      <td>0.316329</td>\n",
       "      <td>0.231808</td>\n",
       "    </tr>\n",
       "    <tr>\n",
       "      <th>low</th>\n",
       "      <td>0.000226</td>\n",
       "      <td>0.005791</td>\n",
       "      <td>0.253885</td>\n",
       "      <td>0.811943</td>\n",
       "      <td>0.811943</td>\n",
       "      <td>0.832543</td>\n",
       "      <td>-0.146219</td>\n",
       "      <td>0.382555</td>\n",
       "      <td>1.000000</td>\n",
       "      <td>0.749458</td>\n",
       "      <td>0.610039</td>\n",
       "      <td>0.320857</td>\n",
       "      <td>0.700927</td>\n",
       "      <td>0.803615</td>\n",
       "      <td>0.853233</td>\n",
       "    </tr>\n",
       "    <tr>\n",
       "      <th>Unit_Sales</th>\n",
       "      <td>-0.018623</td>\n",
       "      <td>0.012784</td>\n",
       "      <td>0.186905</td>\n",
       "      <td>0.940854</td>\n",
       "      <td>0.940854</td>\n",
       "      <td>0.521937</td>\n",
       "      <td>-0.215776</td>\n",
       "      <td>0.237685</td>\n",
       "      <td>0.749458</td>\n",
       "      <td>1.000000</td>\n",
       "      <td>0.487154</td>\n",
       "      <td>0.295475</td>\n",
       "      <td>0.740190</td>\n",
       "      <td>0.930313</td>\n",
       "      <td>0.891793</td>\n",
       "    </tr>\n",
       "    <tr>\n",
       "      <th>Months</th>\n",
       "      <td>-0.011645</td>\n",
       "      <td>0.001767</td>\n",
       "      <td>0.129768</td>\n",
       "      <td>0.606865</td>\n",
       "      <td>0.606865</td>\n",
       "      <td>0.445347</td>\n",
       "      <td>-0.124170</td>\n",
       "      <td>0.293089</td>\n",
       "      <td>0.610039</td>\n",
       "      <td>0.487154</td>\n",
       "      <td>1.000000</td>\n",
       "      <td>0.285208</td>\n",
       "      <td>0.697599</td>\n",
       "      <td>0.603545</td>\n",
       "      <td>0.701328</td>\n",
       "    </tr>\n",
       "    <tr>\n",
       "      <th>Education</th>\n",
       "      <td>-0.014520</td>\n",
       "      <td>0.010226</td>\n",
       "      <td>0.131279</td>\n",
       "      <td>0.375752</td>\n",
       "      <td>0.375752</td>\n",
       "      <td>0.238875</td>\n",
       "      <td>-0.077910</td>\n",
       "      <td>0.098670</td>\n",
       "      <td>0.320857</td>\n",
       "      <td>0.295475</td>\n",
       "      <td>0.285208</td>\n",
       "      <td>1.000000</td>\n",
       "      <td>0.316351</td>\n",
       "      <td>0.360547</td>\n",
       "      <td>0.355142</td>\n",
       "    </tr>\n",
       "    <tr>\n",
       "      <th>openingbalance_median</th>\n",
       "      <td>-0.023798</td>\n",
       "      <td>0.019787</td>\n",
       "      <td>0.092729</td>\n",
       "      <td>0.731291</td>\n",
       "      <td>0.731291</td>\n",
       "      <td>0.491244</td>\n",
       "      <td>-0.149340</td>\n",
       "      <td>0.012393</td>\n",
       "      <td>0.700927</td>\n",
       "      <td>0.740190</td>\n",
       "      <td>0.697599</td>\n",
       "      <td>0.316351</td>\n",
       "      <td>1.000000</td>\n",
       "      <td>0.720024</td>\n",
       "      <td>0.884186</td>\n",
       "    </tr>\n",
       "    <tr>\n",
       "      <th>Base_pay_median</th>\n",
       "      <td>-0.007844</td>\n",
       "      <td>0.010249</td>\n",
       "      <td>0.291721</td>\n",
       "      <td>0.992200</td>\n",
       "      <td>0.992200</td>\n",
       "      <td>0.589497</td>\n",
       "      <td>-0.201964</td>\n",
       "      <td>0.316329</td>\n",
       "      <td>0.803615</td>\n",
       "      <td>0.930313</td>\n",
       "      <td>0.603545</td>\n",
       "      <td>0.360547</td>\n",
       "      <td>0.720024</td>\n",
       "      <td>1.000000</td>\n",
       "      <td>0.868035</td>\n",
       "    </tr>\n",
       "    <tr>\n",
       "      <th>Total_Sales_median</th>\n",
       "      <td>-0.018338</td>\n",
       "      <td>0.011856</td>\n",
       "      <td>0.143351</td>\n",
       "      <td>0.879311</td>\n",
       "      <td>0.879311</td>\n",
       "      <td>0.598798</td>\n",
       "      <td>-0.183335</td>\n",
       "      <td>0.231808</td>\n",
       "      <td>0.853233</td>\n",
       "      <td>0.891793</td>\n",
       "      <td>0.701328</td>\n",
       "      <td>0.355142</td>\n",
       "      <td>0.884186</td>\n",
       "      <td>0.868035</td>\n",
       "      <td>1.000000</td>\n",
       "    </tr>\n",
       "  </tbody>\n",
       "</table>\n",
       "</div>"
      ],
      "text/plain": [
       "                       Business      Type       Age    Salary     Bonus  \\\n",
       "Business               1.000000 -0.143306 -0.005736 -0.008333 -0.008333   \n",
       "Type                  -0.143306  1.000000  0.000853  0.009414  0.009414   \n",
       "Age                   -0.005736  0.000853  1.000000  0.288743  0.288743   \n",
       "Salary                -0.008333  0.009414  0.288743  1.000000  1.000000   \n",
       "Bonus                 -0.008333  0.009414  0.288743  1.000000  1.000000   \n",
       "Unit_Price             0.002512  0.007779  0.191133  0.596259  0.596259   \n",
       "Volume                 0.018296  0.008719 -0.036265 -0.207246 -0.207246   \n",
       "closingbalance         0.005888 -0.010694  0.294936  0.316732  0.316732   \n",
       "low                    0.000226  0.005791  0.253885  0.811943  0.811943   \n",
       "Unit_Sales            -0.018623  0.012784  0.186905  0.940854  0.940854   \n",
       "Months                -0.011645  0.001767  0.129768  0.606865  0.606865   \n",
       "Education             -0.014520  0.010226  0.131279  0.375752  0.375752   \n",
       "openingbalance_median -0.023798  0.019787  0.092729  0.731291  0.731291   \n",
       "Base_pay_median       -0.007844  0.010249  0.291721  0.992200  0.992200   \n",
       "Total_Sales_median    -0.018338  0.011856  0.143351  0.879311  0.879311   \n",
       "\n",
       "                       Unit_Price    Volume  closingbalance       low  \\\n",
       "Business                 0.002512  0.018296        0.005888  0.000226   \n",
       "Type                     0.007779  0.008719       -0.010694  0.005791   \n",
       "Age                      0.191133 -0.036265        0.294936  0.253885   \n",
       "Salary                   0.596259 -0.207246        0.316732  0.811943   \n",
       "Bonus                    0.596259 -0.207246        0.316732  0.811943   \n",
       "Unit_Price               1.000000 -0.045986        0.332721  0.832543   \n",
       "Volume                  -0.045986  1.000000       -0.063188 -0.146219   \n",
       "closingbalance           0.332721 -0.063188        1.000000  0.382555   \n",
       "low                      0.832543 -0.146219        0.382555  1.000000   \n",
       "Unit_Sales               0.521937 -0.215776        0.237685  0.749458   \n",
       "Months                   0.445347 -0.124170        0.293089  0.610039   \n",
       "Education                0.238875 -0.077910        0.098670  0.320857   \n",
       "openingbalance_median    0.491244 -0.149340        0.012393  0.700927   \n",
       "Base_pay_median          0.589497 -0.201964        0.316329  0.803615   \n",
       "Total_Sales_median       0.598798 -0.183335        0.231808  0.853233   \n",
       "\n",
       "                       Unit_Sales    Months  Education  openingbalance_median  \\\n",
       "Business                -0.018623 -0.011645  -0.014520              -0.023798   \n",
       "Type                     0.012784  0.001767   0.010226               0.019787   \n",
       "Age                      0.186905  0.129768   0.131279               0.092729   \n",
       "Salary                   0.940854  0.606865   0.375752               0.731291   \n",
       "Bonus                    0.940854  0.606865   0.375752               0.731291   \n",
       "Unit_Price               0.521937  0.445347   0.238875               0.491244   \n",
       "Volume                  -0.215776 -0.124170  -0.077910              -0.149340   \n",
       "closingbalance           0.237685  0.293089   0.098670               0.012393   \n",
       "low                      0.749458  0.610039   0.320857               0.700927   \n",
       "Unit_Sales               1.000000  0.487154   0.295475               0.740190   \n",
       "Months                   0.487154  1.000000   0.285208               0.697599   \n",
       "Education                0.295475  0.285208   1.000000               0.316351   \n",
       "openingbalance_median    0.740190  0.697599   0.316351               1.000000   \n",
       "Base_pay_median          0.930313  0.603545   0.360547               0.720024   \n",
       "Total_Sales_median       0.891793  0.701328   0.355142               0.884186   \n",
       "\n",
       "                       Base_pay_median  Total_Sales_median  \n",
       "Business                     -0.007844           -0.018338  \n",
       "Type                          0.010249            0.011856  \n",
       "Age                           0.291721            0.143351  \n",
       "Salary                        0.992200            0.879311  \n",
       "Bonus                         0.992200            0.879311  \n",
       "Unit_Price                    0.589497            0.598798  \n",
       "Volume                       -0.201964           -0.183335  \n",
       "closingbalance                0.316329            0.231808  \n",
       "low                           0.803615            0.853233  \n",
       "Unit_Sales                    0.930313            0.891793  \n",
       "Months                        0.603545            0.701328  \n",
       "Education                     0.360547            0.355142  \n",
       "openingbalance_median         0.720024            0.884186  \n",
       "Base_pay_median               1.000000            0.868035  \n",
       "Total_Sales_median            0.868035            1.000000  "
      ]
     },
     "execution_count": 42,
     "metadata": {},
     "output_type": "execute_result"
    }
   ],
   "source": [
    "# get the correlation of the data set\n",
    "df.corr()"
   ]
  },
  {
   "cell_type": "code",
   "execution_count": 55,
   "id": "88324551",
   "metadata": {},
   "outputs": [
    {
     "data": {
      "image/png": "[encoded data removed]",
      "text/plain": [
       "<Figure size 1296x1296 with 2 Axes>"
      ]
     },
     "metadata": {
      "needs_background": "light"
     },
     "output_type": "display_data"
    }
   ],
   "source": [
    "# Find the correlation between Independent and dependent attributes\n",
    "plt.figure(figsize = (18,18))\n",
    "sns.heatmap(df.corr(), annot = True, cmap = \"RdYlGn\")\n",
    "plt.show()"
   ]
  },
  {
   "cell_type": "markdown",
   "id": "bae599bb",
   "metadata": {},
   "source": [
    "From the above heatmap we can say the correlation is positive. There is positive correlation between target variable and independent variables."
   ]
  },
  {
   "cell_type": "code",
   "execution_count": 51,
   "id": "b5c3315f",
   "metadata": {},
   "outputs": [
    {
     "data": {
      "text/plain": [
       "ExtraTreesRegressor()"
      ]
     },
     "execution_count": 51,
     "metadata": {},
     "output_type": "execute_result"
    }
   ],
   "source": [
    "# Important feature using ExtraTreesRegressor\n",
    "\n",
    "from sklearn.ensemble import ExtraTreesRegressor\n",
    "selection = ExtraTreesRegressor()\n",
    "selection.fit(X, y)"
   ]
  },
  {
   "cell_type": "code",
   "execution_count": 52,
   "id": "eaca81ad",
   "metadata": {},
   "outputs": [
    {
     "name": "stdout",
     "output_type": "stream",
     "text": [
      "[5.61004696e-07 2.07870763e-06 5.42417883e-03 1.35365318e-01\n",
      " 2.33565394e-03 7.77842311e-03 9.58196948e-02 3.44833043e-01\n",
      " 4.40867693e-02 3.68168118e-04 1.42078257e-01 1.01826926e-01\n",
      " 1.20074337e-01 1.59891718e-06 1.94692493e-06 2.16458214e-07\n",
      " 2.06652039e-06 7.62957570e-07]\n"
     ]
    }
   ],
   "source": [
    "print(selection.feature_importances_)"
   ]
  },
  {
   "cell_type": "code",
   "execution_count": 53,
   "id": "33b10cb4",
   "metadata": {},
   "outputs": [
    {
     "data": {
      "image/png": "[encoded data removed]",
      "text/plain": [
       "<Figure size 864x576 with 1 Axes>"
      ]
     },
     "metadata": {
      "needs_background": "light"
     },
     "output_type": "display_data"
    }
   ],
   "source": [
    "#plot graph of feature importances for better visualization\n",
    "\n",
    "plt.figure(figsize = (12,8))\n",
    "feature_importances = pd.Series(selection.feature_importances_, index=X.columns)\n",
    "feature_importances.nlargest(20).plot(kind='barh')\n",
    "plt.show()"
   ]
  },
  {
   "cell_type": "markdown",
   "id": "cbfb3e80",
   "metadata": {},
   "source": [
    "# Fitting model using Random Forest\n",
    "\n",
    "1. Split dataset into train and test set \n",
    "2. Scaling is not done in Random forest\n",
    "3. Import model\n",
    "4. Fit the data\n",
    "5. Predict X_test\n",
    "6. Check RSME Score\n",
    "7. Plot graph"
   ]
  },
  {
   "cell_type": "code",
   "execution_count": 54,
   "id": "85c8104e",
   "metadata": {},
   "outputs": [],
   "source": [
    "# importing train test split\n",
    "from sklearn.model_selection import train_test_split"
   ]
  },
  {
   "cell_type": "code",
   "execution_count": 55,
   "id": "24f3f5c6",
   "metadata": {},
   "outputs": [],
   "source": [
    "# splitting of data set into train and test for algorithm\n",
    "X_train, X_test, y_train, y_test = train_test_split(X,y, test_size=0.2, random_state = 42)"
   ]
  },
  {
   "cell_type": "code",
   "execution_count": 56,
   "id": "5108c0bf",
   "metadata": {},
   "outputs": [
    {
     "data": {
      "text/plain": [
       "(4000, 18)"
      ]
     },
     "execution_count": 56,
     "metadata": {},
     "output_type": "execute_result"
    }
   ],
   "source": [
    "X_train.shape"
   ]
  },
  {
   "cell_type": "code",
   "execution_count": 57,
   "id": "1617e036",
   "metadata": {},
   "outputs": [
    {
     "data": {
      "text/plain": [
       "(1000, 18)"
      ]
     },
     "execution_count": 57,
     "metadata": {},
     "output_type": "execute_result"
    }
   ],
   "source": [
    "X_test.shape"
   ]
  },
  {
   "cell_type": "code",
   "execution_count": 58,
   "id": "f466fb56",
   "metadata": {},
   "outputs": [
    {
     "data": {
      "text/plain": [
       "(4000,)"
      ]
     },
     "execution_count": 58,
     "metadata": {},
     "output_type": "execute_result"
    }
   ],
   "source": [
    "y_train.shape"
   ]
  },
  {
   "cell_type": "code",
   "execution_count": 59,
   "id": "96ac67a9",
   "metadata": {},
   "outputs": [
    {
     "data": {
      "text/plain": [
       "(1000,)"
      ]
     },
     "execution_count": 59,
     "metadata": {},
     "output_type": "execute_result"
    }
   ],
   "source": [
    "y_test.shape"
   ]
  },
  {
   "cell_type": "code",
   "execution_count": 60,
   "id": "869556f4",
   "metadata": {},
   "outputs": [
    {
     "data": {
      "text/plain": [
       "RandomForestRegressor()"
      ]
     },
     "execution_count": 60,
     "metadata": {},
     "output_type": "execute_result"
    }
   ],
   "source": [
    "# importing RandomForestRegressor model algorithm\n",
    "from sklearn.ensemble import RandomForestRegressor\n",
    "reg_rf = RandomForestRegressor()\n",
    "\n",
    "# model fitting & training\n",
    "reg_rf.fit(X_train, y_train)"
   ]
  },
  {
   "cell_type": "code",
   "execution_count": 61,
   "id": "11cacad7",
   "metadata": {},
   "outputs": [],
   "source": [
    "# prediction\n",
    "y_pred = reg_rf.predict(X_test)"
   ]
  },
  {
   "cell_type": "code",
   "execution_count": 62,
   "id": "3a4e79ea",
   "metadata": {},
   "outputs": [
    {
     "data": {
      "image/png": "[encoded data removed]",
      "text/plain": [
       "<Figure size 432x288 with 1 Axes>"
      ]
     },
     "metadata": {
      "needs_background": "light"
     },
     "output_type": "display_data"
    }
   ],
   "source": [
    "# Comparing true and predicted value using plot\n",
    "c = [i for i in range(1,len(y_test)+1,1)]\n",
    "fig = plt.figure()\n",
    "#Plotting Actual\n",
    "plt.plot(c,y_test, color = 'blue', linewidth = 1.5, linestyle = \"-\")\n",
    "#Plotting predicted\n",
    "plt.plot(c, y_pred, color = 'red', linewidth = 1.5, linestyle = \"-\")\n",
    "# Plot heading \n",
    "fig.suptitle('Actual and Predicted', fontsize = 20)\n",
    "# X-label\n",
    "plt.xlabel('No. of samples ', fontsize = 18)\n",
    "# Y-label\n",
    "plt.ylabel('Values', fontsize = 16)\n",
    "#showing the plot\n",
    "plt.show()"
   ]
  },
  {
   "cell_type": "code",
   "execution_count": 63,
   "id": "1cf77ab5",
   "metadata": {},
   "outputs": [
    {
     "data": {
      "text/plain": [
       "0.9999561532040124"
      ]
     },
     "execution_count": 63,
     "metadata": {},
     "output_type": "execute_result"
    }
   ],
   "source": [
    "# train accuracy\n",
    "reg_rf.score(X_train, y_train)"
   ]
  },
  {
   "cell_type": "code",
   "execution_count": 64,
   "id": "5ccac20c",
   "metadata": {},
   "outputs": [
    {
     "data": {
      "text/plain": [
       "0.9999128901341228"
      ]
     },
     "execution_count": 64,
     "metadata": {},
     "output_type": "execute_result"
    }
   ],
   "source": [
    "# test accuracy\n",
    "reg_rf.score(X_test, y_test)"
   ]
  },
  {
   "cell_type": "code",
   "execution_count": 77,
   "id": "ffa0dd4f",
   "metadata": {},
   "outputs": [
    {
     "data": {
      "image/png": "[encoded data removed]",
      "text/plain": [
       "<Figure size 432x288 with 1 Axes>"
      ]
     },
     "metadata": {
      "needs_background": "light"
     },
     "output_type": "display_data"
    }
   ],
   "source": [
    "# density plot for actual & prediction\n",
    "sns.distplot(y_test-y_pred)\n",
    "plt.show()"
   ]
  },
  {
   "cell_type": "code",
   "execution_count": 67,
   "id": "5854aca2",
   "metadata": {},
   "outputs": [
    {
     "data": {
      "image/png": "[encoded data removed]",
      "text/plain": [
       "<Figure size 432x288 with 1 Axes>"
      ]
     },
     "metadata": {
      "needs_background": "light"
     },
     "output_type": "display_data"
    }
   ],
   "source": [
    "# scatter plot for actual & prediction\n",
    "plt.scatter(y_test, y_pred, alpha = 0.5)\n",
    "plt.xlabel(\"y_test\")\n",
    "plt.ylabel(\"y_pred\")\n",
    "plt.grid(True)\n",
    "plt.show()"
   ]
  },
  {
   "cell_type": "code",
   "execution_count": 65,
   "id": "bb7ae4cc",
   "metadata": {},
   "outputs": [],
   "source": [
    "# importing metrics library\n",
    "from sklearn import metrics"
   ]
  },
  {
   "cell_type": "code",
   "execution_count": 66,
   "id": "dadbd13f",
   "metadata": {},
   "outputs": [
    {
     "name": "stdout",
     "output_type": "stream",
     "text": [
      "MAE: 38.93600143255013\n",
      "MSE: 60395.773459670556\n",
      "RMSE: 245.75551562410672\n"
     ]
    }
   ],
   "source": [
    "# checking MAE, MSE, RMSE\n",
    "print('MAE:', metrics.mean_absolute_error(y_test, y_pred))\n",
    "print('MSE:', metrics.mean_squared_error(y_test, y_pred))\n",
    "print('RMSE:', np.sqrt(metrics.mean_squared_error(y_test, y_pred)))"
   ]
  },
  {
   "cell_type": "markdown",
   "id": "53d54046",
   "metadata": {},
   "source": [
    "Random Forest works for both Classification and Regression tasks.\n",
    "\n",
    "Handles large datasets with high dimensionality.\n",
    "\n",
    "Enhances the accuracy of the model and prevents the overfitting problem."
   ]
  }
 ],
 "metadata": {
  "kernelspec": {
   "display_name": "Python 3",
   "language": "python",
   "name": "python3"
  },
  "language_info": {
   "codemirror_mode": {
    "name": "ipython",
    "version": 3
   },
   "file_extension": ".py",
   "mimetype": "text/x-python",
   "name": "python",
   "nbconvert_exporter": "python",
   "pygments_lexer": "ipython3",
   "version": "3.8.8"
  }
 },
 "nbformat": 4,
 "nbformat_minor": 5
}
